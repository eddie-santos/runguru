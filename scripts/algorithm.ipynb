{
 "cells": [
  {
   "cell_type": "code",
   "execution_count": 2,
   "metadata": {
    "collapsed": false
   },
   "outputs": [],
   "source": [
    "# from collections import defaultdict\n",
    "import numpy as np\n",
    "import pandas as pd\n",
    "import pymysql as mdb\n",
    "import sqlalchemy\n",
    "import random\n",
    "import seaborn as sns\n",
    "import matplotlib.pyplot as plt\n",
    "from bisect import bisect\n",
    "\n",
    "%matplotlib inline\n",
    "\n",
    "sns.set_context('talk')\n",
    "sns.set_style('darkgrid') "
   ]
  },
  {
   "cell_type": "code",
   "execution_count": 3,
   "metadata": {
    "collapsed": false
   },
   "outputs": [],
   "source": [
    "# connect to sql\n",
    "con = mdb.connect('localhost','root','','runnersdb')\n",
    "cur = con.cursor()\n",
    "sqlEngine = sqlalchemy.create_engine('mysql+pymysql://root@localhost/runnersdb')"
   ]
  },
  {
   "cell_type": "code",
   "execution_count": null,
   "metadata": {
    "collapsed": false
   },
   "outputs": [],
   "source": []
  },
  {
   "cell_type": "code",
   "execution_count": null,
   "metadata": {
    "collapsed": false
   },
   "outputs": [],
   "source": []
  },
  {
   "cell_type": "code",
   "execution_count": null,
   "metadata": {
    "collapsed": false
   },
   "outputs": [],
   "source": []
  },
  {
   "cell_type": "code",
   "execution_count": 4,
   "metadata": {
    "collapsed": false
   },
   "outputs": [],
   "source": [
    "# load good_runners which is highly filtered\n",
    "good_runners = pd.read_sql(\"SELECT * FROM good_runners;\",con)\n",
    "good_runners['run_difficulty'] = good_runners['run_difficulty'].astype(int)"
   ]
  },
  {
   "cell_type": "code",
   "execution_count": 5,
   "metadata": {
    "collapsed": true
   },
   "outputs": [],
   "source": [
    "errors = []"
   ]
  },
  {
   "cell_type": "code",
   "execution_count": 6,
   "metadata": {
    "collapsed": true
   },
   "outputs": [],
   "source": [
    "s = 3\n",
    "z_thresh = 0.5"
   ]
  },
  {
   "cell_type": "code",
   "execution_count": 7,
   "metadata": {
    "collapsed": true
   },
   "outputs": [],
   "source": [
    "grouped = good_runners.groupby(by=['user','race'])\n",
    "patterns = []\n",
    "for (u,r), group in grouped:\n",
    "    df = grouped.get_group((u,r))\n",
    "    patterns.append(df['run_difficulty'].tolist())"
   ]
  },
  {
   "cell_type": "code",
   "execution_count": 8,
   "metadata": {
    "collapsed": true
   },
   "outputs": [],
   "source": [
    "new_dict = {}\n",
    "for line in patterns:\n",
    "    zeroes = float(line.count(0))/len(line)\n",
    "    if zeroes < z_thresh:\n",
    "        l = len(line)\n",
    "        for i in xrange(l-s):\n",
    "            key = ''\n",
    "            value = 0\n",
    "            for j in xrange(s):\n",
    "                n = str(line[i+j])\n",
    "                key = key + n\n",
    "            value = line[i+s]\n",
    "            if key not in new_dict:\n",
    "                new_dict[key] = [value]\n",
    "            else:\n",
    "                new_dict[key].append(value)   "
   ]
  },
  {
   "cell_type": "code",
   "execution_count": null,
   "metadata": {
    "collapsed": false
   },
   "outputs": [],
   "source": []
  },
  {
   "cell_type": "code",
   "execution_count": 9,
   "metadata": {
    "collapsed": false
   },
   "outputs": [
    {
     "data": {
      "text/plain": [
       "<matplotlib.axes._subplots.AxesSubplot at 0x10ae3f450>"
      ]
     },
     "execution_count": 9,
     "metadata": {},
     "output_type": "execute_result"
    },
    {
     "data": {
      "image/png": "[encoded data removed]",
      "text/plain": [
       "<matplotlib.figure.Figure at 0x10ae25350>"
      ]
     },
     "metadata": {},
     "output_type": "display_data"
    }
   ],
   "source": [
    "act_prob = pd.DataFrame()\n",
    "for elem in new_dict:\n",
    "    list_ = []\n",
    "    for i in xrange(5):\n",
    "        t = float(new_dict[elem].count(i))/len(new_dict[elem])\n",
    "        list_.append(t)\n",
    "    act_prob[elem] = list_\n",
    "cur.execute(\"DROP TABLE IF EXISTS act_prob\")\n",
    "act_prob.to_sql('act_prob',sqlEngine)\n",
    "act_prob = act_prob.rename(index={0:'rest',1:'easy',2:'moderate',3:'hard',4:'epic'})\n",
    "plt.rcParams['figure.figsize'] = 8, 5  # plotsize \n",
    "subplot = act_prob[['044','431','214','243']]\n",
    "sns.heatmap(subplot.T,annot=False,cbar=True,vmin=0,vmax=1,linewidths=0,yticklabels=True,xticklabels=False, cmap=\"YlOrBr\")"
   ]
  },
  {
   "cell_type": "code",
   "execution_count": null,
   "metadata": {
    "collapsed": false
   },
   "outputs": [],
   "source": []
  },
  {
   "cell_type": "code",
   "execution_count": 10,
   "metadata": {
    "collapsed": false
   },
   "outputs": [],
   "source": [
    "# determine pdfs for all of the different run types\n",
    "easy = []\n",
    "mod = []\n",
    "hard = []\n",
    "epic = []\n",
    "for i in xrange(len(good_runners['run_stress'])):\n",
    "    stress = good_runners['run_stress'][i]\n",
    "    diff = good_runners['run_difficulty'][i]\n",
    "    if diff == 1:\n",
    "        easy.append(stress)\n",
    "    elif diff == 2:\n",
    "        mod.append(stress)\n",
    "    elif diff == 3:\n",
    "        hard.append(stress)\n",
    "    elif diff == 4:\n",
    "        epic.append(stress)\n",
    "easy_df = pd.DataFrame(easy)        \n",
    "mod_df = pd.DataFrame(mod)        \n",
    "hard_df = pd.DataFrame(hard)\n",
    "epic_df = pd.DataFrame(epic)\n",
    "      \n",
    "# write to SQL    \n",
    "cur.execute(\"DROP TABLE IF EXISTS easy_pdf\")\n",
    "easy_df.to_sql(\"easy_pdf\",sqlEngine)\n",
    "cur.execute(\"DROP TABLE IF EXISTS mod_pdf\")\n",
    "mod_df.to_sql(\"mod_pdf\",sqlEngine)\n",
    "cur.execute(\"DROP TABLE IF EXISTS hard_pdf\")\n",
    "hard_df.to_sql(\"hard_pdf\",sqlEngine)\n",
    "cur.execute(\"DROP TABLE IF EXISTS epic_pdf\")\n",
    "epic_df.to_sql(\"epic_pdf\",sqlEngine)"
   ]
  },
  {
   "cell_type": "code",
   "execution_count": 11,
   "metadata": {
    "collapsed": false
   },
   "outputs": [],
   "source": [
    "pdf = {}\n",
    "pdf[0] = [0]\n",
    "for i in xrange(len(good_runners)):\n",
    "    key = good_runners['run_difficulty'][i]\n",
    "    value = good_runners['run_stress'][i]\n",
    "    if key != 0:\n",
    "        if key not in pdf:\n",
    "            pdf[key] = [value]\n",
    "        else:\n",
    "            pdf[key].append(value)"
   ]
  },
  {
   "cell_type": "code",
   "execution_count": 12,
   "metadata": {
    "collapsed": false
   },
   "outputs": [],
   "source": [
    "# act_prob = pd.DataFrame()\n",
    "# j = 2\n",
    "# for elem in ld[j]:\n",
    "#     list_ = []\n",
    "#     for i in xrange(5):\n",
    "#         t = float(ld[j][elem].count(i))/len(ld[j][elem])\n",
    "#         list_.append(t)\n",
    "#     act_prob[elem] = list_\n",
    "# cur.execute(\"DROP TABLE IF EXISTS act_prob\")\n",
    "# act_prob.to_sql('act_prob',sqlEngine)\n",
    "# # act_prob = act_prob.rename(index={0:'rest',1:'easy',2:'moderate',3:'hard',4:'epic'})\n",
    "# plt.rcParams['figure.figsize'] = 10, 60  # plotsize \n",
    "# sns.heatmap(act_prob.T,annot=True,cbar=False,vmin=0,vmax=1)"
   ]
  },
  {
   "cell_type": "code",
   "execution_count": null,
   "metadata": {
    "collapsed": false
   },
   "outputs": [],
   "source": []
  },
  {
   "cell_type": "code",
   "execution_count": 13,
   "metadata": {
    "collapsed": false
   },
   "outputs": [],
   "source": [
    "# P = [0.10,0.25,0.60,0.05]\n",
    "\n",
    "# cdf = [P[0]]\n",
    "# for i in xrange(1, len(P)):\n",
    "#     cdf.append(cdf[-1] + P[i])\n",
    "\n",
    "# random_ind = bisect(cdf,random())\n",
    "# random_ind"
   ]
  },
  {
   "cell_type": "code",
   "execution_count": 14,
   "metadata": {
    "collapsed": false
   },
   "outputs": [],
   "source": [
    "# test = '321'\n",
    "# P = act_prob[test]\n",
    "# cdf = [P[0]]\n",
    "# for i in xrange(1, len(P)):\n",
    "#     cdf.append(cdf[-1] + P[i])\n"
   ]
  },
  {
   "cell_type": "code",
   "execution_count": 15,
   "metadata": {
    "collapsed": false
   },
   "outputs": [],
   "source": [
    "classes = []\n",
    "for key in new_dict:\n",
    "    for num in new_dict[key]:\n",
    "        classes.append([key, num])\n",
    "classes = pd.DataFrame(classes)\n",
    "classes = classes.rename(columns={0:'key',1:'num'})"
   ]
  },
  {
   "cell_type": "code",
   "execution_count": 16,
   "metadata": {
    "collapsed": false
   },
   "outputs": [
    {
     "data": {
      "text/plain": [
       "<matplotlib.axes._subplots.AxesSubplot at 0x10b3b6490>"
      ]
     },
     "execution_count": 16,
     "metadata": {},
     "output_type": "execute_result"
    },
    {
     "data": {
      "image/png": "[encoded data removed]",
      "text/plain": [
       "<matplotlib.figure.Figure at 0x10b6a26d0>"
      ]
     },
     "metadata": {},
     "output_type": "display_data"
    }
   ],
   "source": [
    "plt.rcParams['figure.figsize'] = 12, 8 \n",
    "classes.key.astype(int).hist(bins=500)"
   ]
  },
  {
   "cell_type": "code",
   "execution_count": null,
   "metadata": {
    "collapsed": false
   },
   "outputs": [],
   "source": []
  },
  {
   "cell_type": "code",
   "execution_count": 17,
   "metadata": {
    "collapsed": false
   },
   "outputs": [],
   "source": [
    "def get_difficulty(prob_list,last_acts):\n",
    "    diff = 0 \n",
    "    probs = prob_list[last_acts]\n",
    "    cdf = [probs[0]]\n",
    "    for i in xrange(1,len(probs)):\n",
    "        cdf.append(cdf[-1] + probs[i])\n",
    "#     if last_acts == '000':\n",
    "#         while (diff == 0): \n",
    "#             diff = bisect(cdf,random.random())\n",
    "#     else:\n",
    "#         diff = bisect(cdf,random.random())\n",
    "    diff = bisect(cdf,random.random())\n",
    "    return diff"
   ]
  },
  {
   "cell_type": "code",
   "execution_count": 18,
   "metadata": {
    "collapsed": true
   },
   "outputs": [],
   "source": [
    "# create test stats\n",
    "test = pd.read_sql(\"SELECT days_to_marathon, run_difficulty FROM test_set;\",con)\n",
    "dt = {}\n",
    "k=3\n",
    "for i in xrange(len(test)-k):\n",
    "    this_list = []\n",
    "    key = ''\n",
    "    value = 0\n",
    "    day_test = test['days_to_marathon'][i+k]-test['days_to_marathon'][i]\n",
    "    if day_test == k:\n",
    "        for j in xrange(k):\n",
    "            n = str(int(test['run_difficulty'][i+j]))\n",
    "            key = key + n\n",
    "        value = int(test['run_difficulty'][i+k])\n",
    "        if key not in dt:\n",
    "            dt[key] = [value]\n",
    "        else:\n",
    "            dt[key].append(value)"
   ]
  },
  {
   "cell_type": "code",
   "execution_count": 19,
   "metadata": {
    "collapsed": false
   },
   "outputs": [],
   "source": [
    "test = pd.read_sql(\"SELECT * FROM test_set;\",con)\n",
    "\n",
    "grouped_t = test.groupby(by=['user','race'])\n",
    "z = []\n",
    "for (u,r), group in grouped_t:\n",
    "    df = grouped_t.get_group((u,r))\n",
    "    z.append(df['run_difficulty'].tolist())\n",
    "    \n",
    "dt = {}\n",
    "for line in z:\n",
    "    zeroes = float(line.count(0))/len(line)\n",
    "    if zeroes < z_thresh:\n",
    "        l = len(line)\n",
    "        for i in xrange(l-s):\n",
    "            key = ''\n",
    "            value = 0\n",
    "            for j in xrange(s):\n",
    "                n = str(int(line[i+j]))\n",
    "                key = key + n\n",
    "            value = int(line[i+s])\n",
    "            if key not in dt:\n",
    "                dt[key] = [value]\n",
    "            else:\n",
    "                dt[key].append(value)   "
   ]
  },
  {
   "cell_type": "code",
   "execution_count": null,
   "metadata": {
    "collapsed": false
   },
   "outputs": [],
   "source": []
  },
  {
   "cell_type": "code",
   "execution_count": 20,
   "metadata": {
    "collapsed": false
   },
   "outputs": [],
   "source": [
    "classes = []\n",
    "for key in dt:\n",
    "    for num in dt[key]:\n",
    "        classes.append([key, num])\n",
    "classes = pd.DataFrame(classes)\n",
    "classes = classes.rename(columns={0:'key',1:'num'})"
   ]
  },
  {
   "cell_type": "code",
   "execution_count": 21,
   "metadata": {
    "collapsed": false
   },
   "outputs": [],
   "source": [
    "stuff = pd.read_sql(\"SELECT * FROM act_prob;\",con)\n",
    "preds = []\n",
    "for i in xrange(len(classes)):\n",
    "    key = classes.key[i]\n",
    "    num = get_difficulty(stuff,key)\n",
    "    preds.append(num)\n",
    "preds = pd.DataFrame(preds)\n",
    "preds = preds.rename(columns={0:'prediction'})"
   ]
  },
  {
   "cell_type": "code",
   "execution_count": 22,
   "metadata": {
    "collapsed": false
   },
   "outputs": [],
   "source": [
    "full = pd.concat([classes, preds], axis=1)\n",
    "rests = []\n",
    "easies = []\n",
    "mods = []\n",
    "hards = []\n",
    "epics = []\n",
    "for i in xrange(len(full)):\n",
    "    num = full['num'][i]\n",
    "    pred = full['prediction'][i]\n",
    "    if num == 0:\n",
    "        rests.append(pred)\n",
    "    elif num == 1:\n",
    "        easies.append(pred)\n",
    "    elif num == 2:\n",
    "        mods.append(pred)\n",
    "    elif num == 3:\n",
    "        hards.append(pred)\n",
    "    elif num == 4:\n",
    "        epics.append(pred)"
   ]
  },
  {
   "cell_type": "code",
   "execution_count": 23,
   "metadata": {
    "collapsed": false
   },
   "outputs": [],
   "source": [
    "confusion = pd.DataFrame()\n",
    "full = [rests,easies,mods,hards,epics]\n",
    "for elem in full:\n",
    "    list_ = []\n",
    "    for i in xrange(5):\n",
    "        t = float(elem.count(i))/len(elem)\n",
    "#         t = float(elem.count(i))#/len(elem)\n",
    "        list_.append(t)\n",
    "    confusion = confusion.append([list_])\n",
    "confusion = confusion.reset_index()\n",
    "del confusion['index']"
   ]
  },
  {
   "cell_type": "code",
   "execution_count": 24,
   "metadata": {
    "collapsed": false
   },
   "outputs": [
    {
     "data": {
      "text/plain": [
       "<matplotlib.axes._subplots.AxesSubplot at 0x10e401e50>"
      ]
     },
     "execution_count": 24,
     "metadata": {},
     "output_type": "execute_result"
    },
    {
     "data": {
      "image/png": "[encoded data removed]",
      "text/plain": [
       "<matplotlib.figure.Figure at 0x10e401650>"
      ]
     },
     "metadata": {},
     "output_type": "display_data"
    }
   ],
   "source": [
    "# correlation matrix\n",
    "# sns.heatmap(confusion,annot=False,cbar=True,vmin=0,vmax=confusion.max().max(),fmt='g',cmap=\"YlOrBr\",linewidths=0)\n",
    "sns.heatmap(confusion,annot=False,cbar=True,vmin=0,vmax=confusion.max().max(),fmt='g',cmap=\"YlOrBr\",linewidths=0,xticklabels=False,yticklabels=False)"
   ]
  },
  {
   "cell_type": "code",
   "execution_count": 25,
   "metadata": {
    "collapsed": false
   },
   "outputs": [
    {
     "data": {
      "text/plain": [
       "<matplotlib.axes._subplots.AxesSubplot at 0x10ddb9110>"
      ]
     },
     "execution_count": 25,
     "metadata": {},
     "output_type": "execute_result"
    },
    {
     "data": {
      "image/png": "[encoded data removed]",
      "text/plain": [
       "<matplotlib.figure.Figure at 0x1064d8510>"
      ]
     },
     "metadata": {},
     "output_type": "display_data"
    }
   ],
   "source": [
    "subfusion = confusion[1:5][[1,2,3,4]]\n",
    "rows = []\n",
    "for line in subfusion:\n",
    "    newline = subfusion[line]/subfusion[line].sum()\n",
    "    rows.append(newline)\n",
    "subfusionp = pd.DataFrame(rows)    \n",
    "sns.heatmap(subfusionp,annot=False,cbar=True,vmin=0,vmax=1,fmt='g',cmap=\"YlOrBr\",linewidths=0)"
   ]
  },
  {
   "cell_type": "code",
   "execution_count": 26,
   "metadata": {
    "collapsed": false
   },
   "outputs": [],
   "source": [
    "# err_df = pd.DataFrame(errors,columns=('threshold','accuracy'))\n",
    "# err_df.plot(x='threshold',y='accuracy',legend=False)"
   ]
  },
  {
   "cell_type": "code",
   "execution_count": 27,
   "metadata": {
    "collapsed": false
   },
   "outputs": [
    {
     "name": "stdout",
     "output_type": "stream",
     "text": [
      "0    0.202080\n",
      "1    0.203878\n",
      "2    0.204994\n",
      "3    0.190984\n",
      "4    0.198065\n",
      "Name: 0, dtype: float64\n",
      "0    0.213952\n",
      "1    0.212798\n",
      "2    0.201811\n",
      "3    0.186097\n",
      "4    0.185342\n",
      "Name: 1, dtype: float64\n",
      "0    0.198529\n",
      "1    0.186862\n",
      "2    0.189252\n",
      "3    0.214349\n",
      "4    0.211008\n",
      "Name: 2, dtype: float64\n",
      "0    0.205398\n",
      "1    0.184039\n",
      "2    0.202478\n",
      "3    0.214516\n",
      "4    0.193569\n",
      "Name: 3, dtype: float64\n",
      "0    0.178371\n",
      "1    0.209279\n",
      "2    0.200006\n",
      "3    0.200211\n",
      "4    0.212133\n",
      "Name: 4, dtype: float64\n"
     ]
    }
   ],
   "source": [
    "confusion2 = confusion.T\n",
    "# full = [rests,easies,mods,hards,epics]\n",
    "new_mat = []\n",
    "for row in confusion:\n",
    "    new_row = confusion[row]\n",
    "    new_row = new_row/new_row.sum()\n",
    "    new_mat.append(new_row)\n",
    "    print new_row\n",
    "# list_2 = []\n",
    "# for i in xrange(5):\n",
    "#     t = float(elem.count(i))/len(elem)\n",
    "#     list_2.append(t)\n",
    "# confusion = confusion.append([list_])\n",
    "# confusion = confusion.reset_index()\n",
    "# del confusion['index']"
   ]
  },
  {
   "cell_type": "code",
   "execution_count": 28,
   "metadata": {
    "collapsed": false
   },
   "outputs": [
    {
     "data": {
      "text/plain": [
       "<matplotlib.axes._subplots.AxesSubplot at 0x10bd6a3d0>"
      ]
     },
     "execution_count": 28,
     "metadata": {},
     "output_type": "execute_result"
    },
    {
     "data": {
      "image/png": "[encoded data removed]",
      "text/plain": [
       "<matplotlib.figure.Figure at 0x10b3955d0>"
      ]
     },
     "metadata": {},
     "output_type": "display_data"
    }
   ],
   "source": [
    "# sns.heatmap(new_mat,annot=False,cbar=True,vmin=0,vmax=confusion.max().max(),fmt='g',cmap=\"YlOrBr\",linewidths=0,xticklabels=False,yticklabels=False)\n",
    "sns.heatmap(new_mat,annot=False,cbar=True,vmin=0.1,vmax=0.25,fmt='g',cmap=\"YlOrBr\",linewidths=0,xticklabels=False,yticklabels=False)"
   ]
  },
  {
   "cell_type": "code",
   "execution_count": 1,
   "metadata": {
    "collapsed": false
   },
   "outputs": [
    {
     "ename": "NameError",
     "evalue": "name 'new_mat' is not defined",
     "output_type": "error",
     "traceback": [
      "\u001b[0;31m---------------------------------------------------------------------------\u001b[0m",
      "\u001b[0;31mNameError\u001b[0m                                 Traceback (most recent call last)",
      "\u001b[0;32m<ipython-input-1-6b32f9b410da>\u001b[0m in \u001b[0;36m<module>\u001b[0;34m()\u001b[0m\n\u001b[0;32m----> 1\u001b[0;31m \u001b[0mnew_mat\u001b[0m\u001b[0;34m\u001b[0m\u001b[0m\n\u001b[0m",
      "\u001b[0;31mNameError\u001b[0m: name 'new_mat' is not defined"
     ]
    }
   ],
   "source": [
    "new_mat"
   ]
  },
  {
   "cell_type": "code",
   "execution_count": null,
   "metadata": {
    "collapsed": false
   },
   "outputs": [],
   "source": [
    "# create dict containing chain algorithm for different size chains\n",
    "filling = []\n",
    "max_chain = 11\n",
    "ld = []\n",
    "for k in range(1,max_chain+1):\n",
    "    d = {}\n",
    "    for i in xrange(len(good_runners)-k):\n",
    "        this_list = []\n",
    "        key = ''\n",
    "        value = 0\n",
    "        day_test = good_runners['days_to_marathon'][i+k]-good_runners['days_to_marathon'][i]\n",
    "        if day_test == k:\n",
    "            for j in xrange(k):\n",
    "                n = str(good_runners['run_difficulty'][i+j])\n",
    "                key = key + n\n",
    "            value = good_runners['run_difficulty'][i+k]\n",
    "            if key not in d:\n",
    "                d[key] = [value]\n",
    "            else:\n",
    "                d[key].append(value)\n",
    "    ld.append(d)     \n",
    "    filling.append([k,float(len(d))/(5 ** k)*100])"
   ]
  },
  {
   "cell_type": "code",
   "execution_count": null,
   "metadata": {
    "collapsed": false
   },
   "outputs": [],
   "source": [
    "# Plot chain size with %filled\n",
    "plt.rcParams['figure.figsize'] = 12, 8\n",
    "hold = pd.DataFrame(filling)#.plot()\n",
    "del hold[0]\n",
    "hold.plot(legend=False)"
   ]
  },
  {
   "cell_type": "code",
   "execution_count": null,
   "metadata": {
    "collapsed": false
   },
   "outputs": [],
   "source": []
  },
  {
   "cell_type": "code",
   "execution_count": null,
   "metadata": {
    "collapsed": false
   },
   "outputs": [],
   "source": []
  },
  {
   "cell_type": "code",
   "execution_count": 97,
   "metadata": {
    "collapsed": false
   },
   "outputs": [],
   "source": [
    "intensity = pd.read_sql(\"SELECT * FROM intensity;\",con)\n",
    "del intensity['index']"
   ]
  },
  {
   "cell_type": "code",
   "execution_count": 111,
   "metadata": {
    "collapsed": false
   },
   "outputs": [],
   "source": [
    "easy_int = []\n",
    "mod_int = []\n",
    "hard_int = []\n",
    "epic_int = []\n",
    "for i in xrange(len(intensity)):\n",
    "    diff = intensity['run_difficulty'][i]\n",
    "    intens = intensity['intensity'][i]\n",
    "    if diff == 1:\n",
    "        easy_int.append(intens)\n",
    "    elif diff == 2:\n",
    "        mod_int.append(intens)\n",
    "    elif diff == 3:\n",
    "        hard_int.append(intens)\n",
    "    elif diff == 4:\n",
    "        epic_int.append(intens)\n",
    "easy_int = pd.DataFrame(easy_int)\n",
    "mod_int = pd.DataFrame(mod_int)\n",
    "hard_int = pd.DataFrame(hard_int)\n",
    "epic_int = pd.DataFrame(epic_int)"
   ]
  },
  {
   "cell_type": "code",
   "execution_count": 112,
   "metadata": {
    "collapsed": false
   },
   "outputs": [
    {
     "name": "stderr",
     "output_type": "stream",
     "text": [
      "/Users/Eddie/anaconda/lib/python2.7/site-packages/pymysql/cursors.py:134: Warning: Unknown table 'runnersdb.easy_ints'\n",
      "  result = self._query(query)\n",
      "/Users/Eddie/anaconda/lib/python2.7/site-packages/pymysql/cursors.py:134: Warning: Unknown table 'runnersdb.mod_ints'\n",
      "  result = self._query(query)\n",
      "/Users/Eddie/anaconda/lib/python2.7/site-packages/pymysql/cursors.py:134: Warning: Unknown table 'runnersdb.hard_ints'\n",
      "  result = self._query(query)\n",
      "/Users/Eddie/anaconda/lib/python2.7/site-packages/pymysql/cursors.py:134: Warning: Unknown table 'runnersdb.epic_ints'\n",
      "  result = self._query(query)\n"
     ]
    }
   ],
   "source": [
    "cur.execute(\"DROP TABLE IF EXISTS easy_ints\")\n",
    "cur.execute(\"DROP TABLE IF EXISTS mod_ints\")\n",
    "cur.execute(\"DROP TABLE IF EXISTS hard_ints\")\n",
    "cur.execute(\"DROP TABLE IF EXISTS epic_ints\")\n",
    "easy_int.to_sql('easy_ints',sqlEngine)\n",
    "mod_int.to_sql('mod_ints',sqlEngine)\n",
    "hard_int.to_sql('hard_ints',sqlEngine)\n",
    "epic_int.to_sql('epic_ints',sqlEngine)"
   ]
  },
  {
   "cell_type": "code",
   "execution_count": null,
   "metadata": {
    "collapsed": true
   },
   "outputs": [],
   "source": []
  }
 ],
 "metadata": {
  "kernelspec": {
   "display_name": "Python 2",
   "language": "python",
   "name": "python2"
  },
  "language_info": {
   "codemirror_mode": {
    "name": "ipython",
    "version": 2
   },
   "file_extension": ".py",
   "mimetype": "text/x-python",
   "name": "python",
   "nbconvert_exporter": "python",
   "pygments_lexer": "ipython2",
   "version": "2.7.10"
  }
 },
 "nbformat": 4,
 "nbformat_minor": 0
}
