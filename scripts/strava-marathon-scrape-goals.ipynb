{
 "cells": [
  {
   "cell_type": "code",
   "execution_count": 6,
   "metadata": {
    "collapsed": true
   },
   "outputs": [],
   "source": [
    "from selenium import webdriver\n",
    "import numpy as np\n",
    "import pandas as pd\n",
    "import re\n",
    "import sys\n",
    "import time\n",
    "from credentials import EMAIL, PASSWORD"
   ]
  },
  {
   "cell_type": "code",
   "execution_count": 7,
   "metadata": {
    "collapsed": false
   },
   "outputs": [],
   "source": []
  },
  {
   "cell_type": "code",
   "execution_count": 8,
   "metadata": {
    "collapsed": true
   },
   "outputs": [],
   "source": [
    "cities = [\"2014-new-york-city\",\"2015-boston\",\"2014-san-francisco\",\n",
    "      \"2014-chicago\",\"2014-honolulu\",\"2015-walt-disney-world\",\"2015-los-angeles\",\n",
    "      \"2015-san-diego-rock-n-roll\",\"2014-twin-cities\",\"2014-berlin\",\"2014-dublin\",\n",
    "     \"2015-big-sur\",\"2015-london\",\"2015-bay-of-mont-saint-michel\"]\n",
    "run_type = \"marathon\"\n",
    "link = \"https://www.strava.com/running-races/\"\n",
    "races=[]\n",
    "for city in cities:\n",
    "    races.append(link + city + \"-\" + run_type)"
   ]
  },
  {
   "cell_type": "code",
   "execution_count": 9,
   "metadata": {
    "collapsed": false
   },
   "outputs": [],
   "source": [
    "browser = webdriver.Chrome()\n",
    "browser.get('https://app.strava.com/login')\n",
    "browser.find_element_by_name('email').send_keys(EMAIL)\n",
    "browser.find_element_by_name('password').clear()\n",
    "browser.find_element_by_name('password').send_keys(PASSWORD)\n",
    "browser.find_element_by_id('login-button').submit()\n",
    "time.sleep(2)"
   ]
  },
  {
   "cell_type": "code",
   "execution_count": 10,
   "metadata": {
    "collapsed": false
   },
   "outputs": [],
   "source": [
    "for r in xrange(len(cities)):    \n",
    "#     r=1\n",
    "    browser.get(races[r]) #load page\n",
    "\n",
    "    html_file = open(cities[r]+\"-goals.html\",'w') \n",
    "    error = False\n",
    "    while not error:\n",
    "        try:\n",
    "            button = browser.find_element_by_xpath('//*[@id=\"weekly-training-controls\"]/div[3]/div')\n",
    "            error = True\n",
    "        except:\n",
    "            pass\n",
    "    for i in xrange(1,8):\n",
    "        error2 = False\n",
    "        while not error2:\n",
    "            try:\n",
    "                button.click()\n",
    "                error2 = True\n",
    "                time.sleep(2)\n",
    "                browser.find_element_by_xpath('//*[@id=\"weekly-training-controls\"]/div[3]/ul/li['+str(i)+']').click()\n",
    "                time.sleep(2)  \n",
    "                html_code = browser.page_source.encode('utf-8')\n",
    "                html_file.write(html_code)\n",
    "            except:\n",
    "                pass\n",
    "    html_file.close        \n",
    "browser.quit()    "
   ]
  },
  {
   "cell_type": "code",
   "execution_count": 15,
   "metadata": {
    "collapsed": true
   },
   "outputs": [],
   "source": [
    "button = browser.find_element_by_xpath('//*[@id=\"weekly-training-controls\"]/div[3]/div')"
   ]
  },
  {
   "cell_type": "code",
   "execution_count": 23,
   "metadata": {
    "collapsed": true
   },
   "outputs": [],
   "source": [
    "button.click()"
   ]
  },
  {
   "cell_type": "code",
   "execution_count": null,
   "metadata": {
    "collapsed": true
   },
   "outputs": [],
   "source": []
  }
 ],
 "metadata": {
  "kernelspec": {
   "display_name": "Python 2",
   "language": "python",
   "name": "python2"
  },
  "language_info": {
   "codemirror_mode": {
    "name": "ipython",
    "version": 2
   },
   "file_extension": ".py",
   "mimetype": "text/x-python",
   "name": "python",
   "nbconvert_exporter": "python",
   "pygments_lexer": "ipython2",
   "version": "2.7.9"
  }
 },
 "nbformat": 4,
 "nbformat_minor": 0
}
