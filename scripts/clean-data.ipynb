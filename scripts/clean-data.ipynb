{
 "cells": [
  {
   "cell_type": "code",
   "execution_count": 1,
   "metadata": {
    "collapsed": false
   },
   "outputs": [],
   "source": [
    "import numpy as np\n",
    "import pandas as pd\n",
    "import pymysql as mdb\n",
    "import sklearn as sk\n",
    "import sqlalchemy\n",
    "import matplotlib.pyplot as plt\n",
    "%matplotlib inline"
   ]
  },
  {
   "cell_type": "code",
   "execution_count": 2,
   "metadata": {
    "collapsed": false
   },
   "outputs": [],
   "source": [
    "# connect to database\n",
    "con = mdb.connect('localhost','root','','runnersdb')\n",
    "cur = con.cursor()\n",
    "sqlEngine = sqlalchemy.create_engine('mysql+pymysql://root@localhost/runnersdb')"
   ]
  },
  {
   "cell_type": "code",
   "execution_count": 23,
   "metadata": {
    "collapsed": false
   },
   "outputs": [],
   "source": [
    "# load list of marathon runners from database\n",
    "runners = pd.read_sql(\"SELECT * FROM runners WHERE age > 0;\",con)\n",
    "success = pd.DataFrame((runners['goal']-runners['time'])/runners['goal']*100)\n",
    "runners = pd.concat([runners, success], axis=1)\n",
    "runners = runners.rename(columns = {0:'marathon_success','time':'marathon_time','pace':'marathon_pace','date':'marathon_date','start_time':'marathon_start_time','activity':'marathon_activity','goal':'marathon_goal'})\n",
    "\n",
    "# load all training activities\n",
    "log = pd.read_sql(\"SELECT * FROM updated_log;\",con)\n",
    "log[['user']] = log[['user']].astype(int)\n",
    "log[['run_distance','run_pace']] = log[['run_distance','run_pace']].astype(float)"
   ]
  },
  {
   "cell_type": "code",
   "execution_count": 24,
   "metadata": {
    "collapsed": false
   },
   "outputs": [],
   "source": [
    "# join list of runners with activities\n",
    "joined_data = pd.merge(runners,log,on='user')\n",
    "run_stress = joined_data['run_distance']/26.2*(joined_data['marathon_pace']/joined_data['run_pace'])*(joined_data['marathon_pace']/joined_data['run_pace'])\n",
    "joined_data = pd.concat([joined_data,run_stress],axis='1')\n",
    "joined_data = joined_data.rename(columns = {0:'run_stress'})\n",
    "del joined_data['index']\n",
    "cur.execute(\"DROP TABLE IF EXISTS full_log\")\n",
    "joined_data.to_sql('full_log',sqlEngine)"
   ]
  },
  {
   "cell_type": "code",
   "execution_count": 25,
   "metadata": {
    "collapsed": true
   },
   "outputs": [],
   "source": [
    "# convert date to days before marathon\n",
    "run_dates = pd.to_datetime(joined_data['run_date'])\n",
    "marathon_dates = pd.to_datetime(joined_data['marathon_date'])\n",
    "days_to_marathon = (run_dates - marathon_dates).astype(int)/60/60/24/1000000000\n",
    "joined_data = pd.concat([joined_data,days_to_marathon],axis='1')\n",
    "joined_data = joined_data.rename(columns = {0:'days_to_marathon'})"
   ]
  },
  {
   "cell_type": "code",
   "execution_count": 26,
   "metadata": {
    "collapsed": false
   },
   "outputs": [],
   "source": [
    "# trim dataset to before the marathon\n",
    "close_day = -24\n",
    "far_day = -94\n",
    "before_marathon = joined_data[(joined_data['days_to_marathon']<close_day) & (joined_data['days_to_marathon']>far_day)]\n",
    "cur.execute(\"DROP TABLE IF EXISTS before_marathon\")\n",
    "before_marathon.to_sql('before_marathon',sqlEngine)"
   ]
  },
  {
   "cell_type": "code",
   "execution_count": 27,
   "metadata": {
    "collapsed": false
   },
   "outputs": [],
   "source": [
    "# a is activities -2 to -14 week data\n",
    "a = pd.read_sql(\"SELECT user, race, marathon_success,run_stress,days_to_marathon, marathon_pace, run_pace FROM before_marathon WHERE run_stress < 10;\",con)\n",
    "a = a.drop_duplicates()\n",
    "cur.execute(\"DROP TABLE IF EXISTS before_marathon_small\")\n",
    "a.to_sql(\"before_marathon_small\",sqlEngine)\n",
    "\n",
    "# b sums up all multiple activities on one day\n",
    "b = pd.read_sql(\"SELECT user, race, marathon_success,SUM(run_stress),(marathon_pace/run_pace),days_to_marathon FROM before_marathon_small GROUP BY user,race,days_to_marathon;\",con)\n",
    "b = b.rename(columns = {'SUM(run_stress)':'run_stress','(marathon_pace/run_pace)':'intensity'})\n",
    "cur.execute(\"DROP TABLE IF EXISTS before_marathon_small_2\")\n",
    "b.to_sql(\"before_marathon_small_2\",sqlEngine)"
   ]
  },
  {
   "cell_type": "code",
   "execution_count": 28,
   "metadata": {
    "collapsed": false
   },
   "outputs": [],
   "source": [
    "# break up run stress into run difficulty \n",
    "# quantiles are correspond to roughly 0, 5, 8, 13, 18\n",
    "c = pd.read_sql(\"SELECT * FROM before_marathon_small_2\",con)\n",
    "del c['index']\n",
    "difficulty = pd.DataFrame(pd.qcut(c.run_stress,q=[0,0.25,0.52,0.75,1],labels=[1,2,3,4]))\n",
    "difficulty = difficulty.rename(columns = {'run_stress':'run_difficulty'})\n",
    "c = pd.concat([c,difficulty],axis='1')\n",
    "c['run_difficulty'] = c['run_difficulty'].astype(int)"
   ]
  },
  {
   "cell_type": "code",
   "execution_count": 29,
   "metadata": {
    "collapsed": false
   },
   "outputs": [],
   "source": [
    "intensity = c[['intensity','run_difficulty']]\n",
    "cur.execute(\"DROP TABLE IF EXISTS intensity\")\n",
    "intensity.to_sql(\"intensity\",sqlEngine)"
   ]
  },
  {
   "cell_type": "code",
   "execution_count": 30,
   "metadata": {
    "collapsed": false
   },
   "outputs": [],
   "source": [
    "# adds in missing days with 0 run difficulty\n",
    "grouped = c.groupby(by=['user','race','marathon_success'])\n",
    "userlist = []\n",
    "for (u,r,m), group in grouped:\n",
    "    df = grouped.get_group((u,r,m))\n",
    "    start = df.set_index('days_to_marathon').first_valid_index()\n",
    "    stop = df.set_index('days_to_marathon').last_valid_index()\n",
    "    dfleft = df.set_index('days_to_marathon')[['user','race','marathon_success']].reindex(index=np.arange(start,stop+1), method='pad')\n",
    "    dfright = df.set_index('days_to_marathon')[['run_stress','run_difficulty']].reindex(index=np.arange(start,stop+1))\n",
    "    userlist.append(pd.concat([dfleft,dfright],axis=1))\n",
    "d = pd.concat(userlist,axis=0)\n",
    "d.fillna(value=0,inplace=True)\n",
    "# d = d[d['run_difficulty'] < 5]"
   ]
  },
  {
   "cell_type": "code",
   "execution_count": 31,
   "metadata": {
    "collapsed": false
   },
   "outputs": [],
   "source": [
    "# c = pd.read_sql(\"SELECT SUM(run_stress),days_to_marathon FROM before_marathon_small_2 GROUP BY days_to_marathon;\",con)\n",
    "# c = c.rename(columns = {'SUM(run_stress)':'run_stress'})\n",
    "# c.plot(kind='line',x='days_to_marathon',y='run_stress')\n",
    "# # plt.plot(c['days_to_marathon'],c['run_stress'],'bo')\n",
    "# plt.xlabel('Days to marathon')\n",
    "# plt.ylabel('Combined stress')"
   ]
  },
  {
   "cell_type": "code",
   "execution_count": 32,
   "metadata": {
    "collapsed": false
   },
   "outputs": [],
   "source": [
    "# good = joined_data[joined_data['marathon_success'] > joined_data['marathon_success'].median()]\n",
    "# bad = joined_data[joined_data['marathon_success'] < joined_data['marathon_success'].median()]"
   ]
  },
  {
   "cell_type": "code",
   "execution_count": 33,
   "metadata": {
    "collapsed": false
   },
   "outputs": [],
   "source": [
    "good = d[d['marathon_success'] > d['marathon_success'].median()]\n",
    "bad = d[d['marathon_success'] < d['marathon_success'].median()]"
   ]
  },
  {
   "cell_type": "code",
   "execution_count": 34,
   "metadata": {
    "collapsed": false
   },
   "outputs": [],
   "source": [
    "cur.execute(\"DROP TABLE IF EXISTS good_runners\")\n",
    "good.to_sql(\"good_runners\",sqlEngine)\n",
    "cur.execute(\"DROP TABLE IF EXISTS bad_runners\")\n",
    "bad.to_sql(\"bad_runners\",sqlEngine)"
   ]
  },
  {
   "cell_type": "code",
   "execution_count": 26,
   "metadata": {
    "collapsed": false
   },
   "outputs": [
    {
     "data": {
      "text/plain": [
       "<matplotlib.text.Text at 0x10929f550>"
      ]
     },
     "execution_count": 26,
     "metadata": {},
     "output_type": "execute_result"
    },
    {
     "data": {
      "image/png": "[encoded data removed]",
      "text/plain": [
       "<matplotlib.figure.Figure at 0x108c84d90>"
      ]
     },
     "metadata": {},
     "output_type": "display_data"
    }
   ],
   "source": [
    "# plot training pattern before marathon\n",
    "# fig,ax = plt.subplots()\n",
    "good_mod = pd.read_sql(\"SELECT AVG(run_stress),days_to_marathon FROM good_runners GROUP BY days_to_marathon;\",con)\n",
    "good_mod = good_mod.rename(columns = {'AVG(run_stress)':'run_stress'})\n",
    "good_mod = good_mod[-60:-52]\n",
    "good_mod['run_stress'] = good_mod['run_stress']*26.2\n",
    "bad_mod = pd.read_sql(\"SELECT AVG(run_stress),days_to_marathon FROM bad_runners GROUP BY days_to_marathon;\",con)\n",
    "bad_mod = bad_mod.rename(columns = {'AVG(run_stress)':'run_stress'})\n",
    "good_mod.plot(kind='line',x='days_to_marathon',y='run_stress',color='dodgerblue',legend=False,ylim=(0,10))\n",
    "# bad_mod.plot(kind='line',x='days_to_marathon',y='run_stress',color='dodgerblue',legend=True,ylim=(0,1),ax=ax)\n",
    "plt.xlabel('Days to marathon')\n",
    "plt.ylabel('Effective distance (miles)')\n",
    "# plt.legend(['goal achievers','non-goal achievers'])"
   ]
  },
  {
   "cell_type": "code",
   "execution_count": 22,
   "metadata": {
    "collapsed": false
   },
   "outputs": [
    {
     "data": {
      "text/html": [
       "<div style=\"max-height:1000px;max-width:1500px;overflow:auto;\">\n",
       "<table border=\"1\" class=\"dataframe\">\n",
       "  <thead>\n",
       "    <tr style=\"text-align: right;\">\n",
       "      <th></th>\n",
       "      <th>run_stress</th>\n",
       "      <th>days_to_marathon</th>\n",
       "    </tr>\n",
       "  </thead>\n",
       "  <tbody>\n",
       "    <tr>\n",
       "      <th>2</th>\n",
       "      <td>8.164139</td>\n",
       "      <td>-91</td>\n",
       "    </tr>\n",
       "    <tr>\n",
       "      <th>3</th>\n",
       "      <td>4.136697</td>\n",
       "      <td>-90</td>\n",
       "    </tr>\n",
       "    <tr>\n",
       "      <th>4</th>\n",
       "      <td>5.186816</td>\n",
       "      <td>-89</td>\n",
       "    </tr>\n",
       "    <tr>\n",
       "      <th>5</th>\n",
       "      <td>4.210174</td>\n",
       "      <td>-88</td>\n",
       "    </tr>\n",
       "    <tr>\n",
       "      <th>6</th>\n",
       "      <td>4.521747</td>\n",
       "      <td>-87</td>\n",
       "    </tr>\n",
       "    <tr>\n",
       "      <th>7</th>\n",
       "      <td>4.145788</td>\n",
       "      <td>-86</td>\n",
       "    </tr>\n",
       "    <tr>\n",
       "      <th>8</th>\n",
       "      <td>6.276680</td>\n",
       "      <td>-85</td>\n",
       "    </tr>\n",
       "  </tbody>\n",
       "</table>\n",
       "</div>"
      ],
      "text/plain": [
       "   run_stress  days_to_marathon\n",
       "2    8.164139               -91\n",
       "3    4.136697               -90\n",
       "4    5.186816               -89\n",
       "5    4.210174               -88\n",
       "6    4.521747               -87\n",
       "7    4.145788               -86\n",
       "8    6.276680               -85"
      ]
     },
     "execution_count": 22,
     "metadata": {},
     "output_type": "execute_result"
    }
   ],
   "source": [
    "good_mod[-67:-60]"
   ]
  },
  {
   "cell_type": "code",
   "execution_count": 42,
   "metadata": {
    "collapsed": false
   },
   "outputs": [],
   "source": [
    "diff = pd.DataFrame()\n",
    "for i in xrange(close_day-far_day):\n",
    "    diff = diff.append([[close_day-far_day-i,0]])\n",
    "diff = diff.rename(columns = {0:'days_to_marathon',1:'difficulty'})"
   ]
  },
  {
   "cell_type": "code",
   "execution_count": 43,
   "metadata": {
    "collapsed": false
   },
   "outputs": [
    {
     "data": {
      "text/plain": [
       "<matplotlib.text.Text at 0x114820c50>"
      ]
     },
     "execution_count": 43,
     "metadata": {},
     "output_type": "execute_result"
    },
    {
     "data": {
      "image/png": "[encoded data removed]",
      "text/plain": [
       "<matplotlib.figure.Figure at 0x10a9a12d0>"
      ]
     },
     "metadata": {},
     "output_type": "display_data"
    }
   ],
   "source": [
    "(joined_data.run_stress*26.2).hist(bins=300,range=(0,30),normed=1,edgecolor='none',color='orange')\n",
    "plt.xlabel('Effective distance (miles)')\n",
    "plt.ylabel('Relative Frequency')\n",
    "plt.title('Training runs normalized to marathon pace')"
   ]
  },
  {
   "cell_type": "code",
   "execution_count": 44,
   "metadata": {
    "collapsed": false
   },
   "outputs": [],
   "source": [
    "# Create testset\n",
    "close_test = -10\n",
    "far_test = -24\n",
    "before_marathon_t = joined_data[(joined_data['days_to_marathon']<close_test) & (joined_data['days_to_marathon']>far_test)]\n",
    "\n",
    "# a is activities -2 to -14 week data\n",
    "before_marathon_t = before_marathon_t[before_marathon_t['run_stress']<10]\n",
    "before_marathon_t = before_marathon_t.drop_duplicates()\n",
    "cur.execute(\"DROP TABLE IF EXISTS before_marathon_t\")\n",
    "before_marathon_t.to_sql(\"before_marathon_t\",sqlEngine)\n",
    "\n",
    "# b sums up all multiple activities on one day\n",
    "b_t = pd.read_sql(\"SELECT user, race, marathon_success,SUM(run_stress),days_to_marathon FROM before_marathon_t GROUP BY user,race,days_to_marathon;\",con)\n",
    "b_t = b_t.rename(columns = {'SUM(run_stress)':'run_stress'})\n",
    "\n",
    "# break up run stress into run difficulty \n",
    "# quantiles are correspond to roughly 0, 5, 8, 13, 18\n",
    "difficulty_t = pd.DataFrame(pd.cut((b_t.run_stress*26.2),[0,5.085,8.059,12.8,400],labels=[1,2,3,4]))\n",
    "difficulty_t = difficulty_t.rename(columns = {'run_stress':'run_difficulty'})\n",
    "b_t = pd.concat([b_t,difficulty],axis='1')\n",
    "b_t['run_difficulty'] = b_t['run_difficulty'].astype(int)\n",
    "\n",
    "# \n",
    "grouped = b_t.groupby(by=['user','race','marathon_success'])\n",
    "userlist = []\n",
    "for (u,r,m), group in grouped:\n",
    "    df = grouped.get_group((u,r,m))\n",
    "    start = df.set_index('days_to_marathon').first_valid_index()\n",
    "    stop = df.set_index('days_to_marathon').last_valid_index()\n",
    "    dfleft = df.set_index('days_to_marathon')[['user','race','marathon_success']].reindex(index=np.arange(start,stop+1), method='pad')\n",
    "    dfright = df.set_index('days_to_marathon')[['run_stress','run_difficulty']].reindex(index=np.arange(start,stop+1))\n",
    "    userlist.append(pd.concat([dfleft,dfright],axis=1))\n",
    "d_t = pd.concat(userlist,axis=0)\n",
    "d_t.fillna(value=0,inplace=True)\n",
    "# # d = d[d['run_difficulty'] < 5]"
   ]
  },
  {
   "cell_type": "code",
   "execution_count": 45,
   "metadata": {
    "collapsed": false
   },
   "outputs": [],
   "source": [
    "cur.execute(\"DROP TABLE IF EXISTS test_set\")\n",
    "d_t.to_sql(\"test_set\",sqlEngine)"
   ]
  },
  {
   "cell_type": "code",
   "execution_count": 51,
   "metadata": {
    "collapsed": false
   },
   "outputs": [
    {
     "ename": "AttributeError",
     "evalue": "'DataFrame' object has no attribute 'run_difficulty'",
     "output_type": "error",
     "traceback": [
      "\u001b[0;31m---------------------------------------------------------------------------\u001b[0m",
      "\u001b[0;31mAttributeError\u001b[0m                            Traceback (most recent call last)",
      "\u001b[0;32m<ipython-input-51-090f121dec7d>\u001b[0m in \u001b[0;36m<module>\u001b[0;34m()\u001b[0m\n\u001b[0;32m----> 1\u001b[0;31m \u001b[0mintensity\u001b[0m\u001b[0;34m.\u001b[0m\u001b[0mrun_difficulty\u001b[0m\u001b[0;34m\u001b[0m\u001b[0m\n\u001b[0m",
      "\u001b[0;32m/Users/Eddie/anaconda/lib/python2.7/site-packages/pandas/core/generic.pyc\u001b[0m in \u001b[0;36m__getattr__\u001b[0;34m(self, name)\u001b[0m\n\u001b[1;32m   2081\u001b[0m                 \u001b[0;32mreturn\u001b[0m \u001b[0mself\u001b[0m\u001b[0;34m[\u001b[0m\u001b[0mname\u001b[0m\u001b[0;34m]\u001b[0m\u001b[0;34m\u001b[0m\u001b[0m\n\u001b[1;32m   2082\u001b[0m             raise AttributeError(\"'%s' object has no attribute '%s'\" %\n\u001b[0;32m-> 2083\u001b[0;31m                                  (type(self).__name__, name))\n\u001b[0m\u001b[1;32m   2084\u001b[0m \u001b[0;34m\u001b[0m\u001b[0m\n\u001b[1;32m   2085\u001b[0m     \u001b[0;32mdef\u001b[0m \u001b[0m__setattr__\u001b[0m\u001b[0;34m(\u001b[0m\u001b[0mself\u001b[0m\u001b[0;34m,\u001b[0m \u001b[0mname\u001b[0m\u001b[0;34m,\u001b[0m \u001b[0mvalue\u001b[0m\u001b[0;34m)\u001b[0m\u001b[0;34m:\u001b[0m\u001b[0;34m\u001b[0m\u001b[0m\n",
      "\u001b[0;31mAttributeError\u001b[0m: 'DataFrame' object has no attribute 'run_difficulty'"
     ]
    }
   ],
   "source": [
    "intensity.run_difficulty"
   ]
  },
  {
   "cell_type": "code",
   "execution_count": null,
   "metadata": {
    "collapsed": false
   },
   "outputs": [],
   "source": []
  },
  {
   "cell_type": "code",
   "execution_count": null,
   "metadata": {
    "collapsed": false
   },
   "outputs": [],
   "source": []
  },
  {
   "cell_type": "code",
   "execution_count": 6,
   "metadata": {
    "collapsed": false
   },
   "outputs": [],
   "source": [
    "# difficulty = pd.DataFrame(pd.qcut(c.run_stress,q=[0,0.25,0.5,0.75,0.9,1],labels=[1,2,3,4]))\n",
    "# difficulty = difficulty.rename(columns = {'run_stress':'run_difficulty'})"
   ]
  },
  {
   "cell_type": "code",
   "execution_count": 104,
   "metadata": {
    "collapsed": false
   },
   "outputs": [
    {
     "name": "stdout",
     "output_type": "stream",
     "text": [
      "0.0\n",
      "2.50095735226\n",
      "3.44141185514\n",
      "4.08634308082\n",
      "4.61957848024\n",
      "5.10604731024\n",
      "5.59865983097\n",
      "6.11245401361\n",
      "6.64004880875\n",
      "7.2095104522\n",
      "7.81563037813\n",
      "8.51229058239\n",
      "9.31375964311\n",
      "10.251557054\n",
      "11.4479219424\n",
      "12.9287261416\n",
      "14.7551619153\n",
      "16.9057074724\n",
      "19.8908445647\n",
      "26.8963986612\n"
     ]
    }
   ],
   "source": [
    "quants = []\n",
    "divs = 20\n",
    "for i in xrange(divs):\n",
    "    print c['run_stress'].quantile(float(i)/divs)*26.2\n",
    "    quants.append([float(i)/20,c['run_stress'].quantile(float(i)/20)*26.2])\n",
    "quants = pd.DataFrame(quants)"
   ]
  },
  {
   "cell_type": "code",
   "execution_count": 105,
   "metadata": {
    "collapsed": false
   },
   "outputs": [
    {
     "data": {
      "text/plain": [
       "<matplotlib.axes._subplots.AxesSubplot at 0x11769ff90>"
      ]
     },
     "execution_count": 105,
     "metadata": {},
     "output_type": "execute_result"
    },
    {
     "data": {
      "image/png": "[encoded data removed]",
      "text/plain": [
       "<matplotlib.figure.Figure at 0x108ca6c10>"
      ]
     },
     "metadata": {},
     "output_type": "display_data"
    }
   ],
   "source": [
    "quants.plot(x=1,y=0)"
   ]
  },
  {
   "cell_type": "code",
   "execution_count": null,
   "metadata": {
    "collapsed": false
   },
   "outputs": [],
   "source": []
  },
  {
   "cell_type": "code",
   "execution_count": 104,
   "metadata": {
    "collapsed": false
   },
   "outputs": [],
   "source": [
    "# run_dates = pd.to_datetime((full_data['run_date']+' '+full_data['run_time']))\n",
    "# marathon_dates = pd.to_datetime((full_data['marathon_date']+' '+full_data['marathon_start_time']))\n",
    "# days_to_marathon = run_dates - marathon_dates"
   ]
  },
  {
   "cell_type": "code",
   "execution_count": null,
   "metadata": {
    "collapsed": false
   },
   "outputs": [],
   "source": []
  },
  {
   "cell_type": "code",
   "execution_count": 118,
   "metadata": {
    "collapsed": false
   },
   "outputs": [],
   "source": [
    "# more = pd.concat([full_data, days_to_marathon], axis=1)\n",
    "# more = more.rename(columns = {0:'days_to_marathon'})"
   ]
  },
  {
   "cell_type": "code",
   "execution_count": 9,
   "metadata": {
    "collapsed": false
   },
   "outputs": [],
   "source": [
    "# more['days_to_marathon'][0]=days_to_marathon[0]"
   ]
  },
  {
   "cell_type": "code",
   "execution_count": null,
   "metadata": {
    "collapsed": false
   },
   "outputs": [],
   "source": []
  },
  {
   "cell_type": "code",
   "execution_count": 29,
   "metadata": {
    "collapsed": false
   },
   "outputs": [
    {
     "ename": "NameError",
     "evalue": "name 'before_marathon2' is not defined",
     "output_type": "error",
     "traceback": [
      "\u001b[0;31m---------------------------------------------------------------------------\u001b[0m",
      "\u001b[0;31mNameError\u001b[0m                                 Traceback (most recent call last)",
      "\u001b[0;32m<ipython-input-29-851005ced762>\u001b[0m in \u001b[0;36m<module>\u001b[0;34m()\u001b[0m\n\u001b[0;32m----> 1\u001b[0;31m \u001b[0mbefore_marathon2\u001b[0m\u001b[0;34m\u001b[0m\u001b[0m\n\u001b[0m",
      "\u001b[0;31mNameError\u001b[0m: name 'before_marathon2' is not defined"
     ]
    }
   ],
   "source": [
    "before_marathon2"
   ]
  },
  {
   "cell_type": "code",
   "execution_count": null,
   "metadata": {
    "collapsed": false
   },
   "outputs": [],
   "source": []
  },
  {
   "cell_type": "code",
   "execution_count": null,
   "metadata": {
    "collapsed": false
   },
   "outputs": [],
   "source": []
  },
  {
   "cell_type": "code",
   "execution_count": null,
   "metadata": {
    "collapsed": false
   },
   "outputs": [],
   "source": []
  },
  {
   "cell_type": "code",
   "execution_count": null,
   "metadata": {
    "collapsed": false
   },
   "outputs": [],
   "source": []
  },
  {
   "cell_type": "code",
   "execution_count": null,
   "metadata": {
    "collapsed": false
   },
   "outputs": [],
   "source": []
  },
  {
   "cell_type": "code",
   "execution_count": null,
   "metadata": {
    "collapsed": false
   },
   "outputs": [],
   "source": []
  },
  {
   "cell_type": "code",
   "execution_count": null,
   "metadata": {
    "collapsed": false
   },
   "outputs": [],
   "source": []
  },
  {
   "cell_type": "code",
   "execution_count": null,
   "metadata": {
    "collapsed": false
   },
   "outputs": [],
   "source": []
  },
  {
   "cell_type": "code",
   "execution_count": null,
   "metadata": {
    "collapsed": false
   },
   "outputs": [],
   "source": []
  },
  {
   "cell_type": "code",
   "execution_count": null,
   "metadata": {
    "collapsed": false
   },
   "outputs": [],
   "source": []
  },
  {
   "cell_type": "code",
   "execution_count": null,
   "metadata": {
    "collapsed": false
   },
   "outputs": [],
   "source": []
  },
  {
   "cell_type": "code",
   "execution_count": null,
   "metadata": {
    "collapsed": false
   },
   "outputs": [],
   "source": []
  },
  {
   "cell_type": "code",
   "execution_count": 5,
   "metadata": {
    "collapsed": false
   },
   "outputs": [
    {
     "ename": "NameError",
     "evalue": "name 'good_mod' is not defined",
     "output_type": "error",
     "traceback": [
      "\u001b[0;31m---------------------------------------------------------------------------\u001b[0m",
      "\u001b[0;31mNameError\u001b[0m                                 Traceback (most recent call last)",
      "\u001b[0;32m<ipython-input-5-d5413845d725>\u001b[0m in \u001b[0;36m<module>\u001b[0;34m()\u001b[0m\n\u001b[0;32m----> 1\u001b[0;31m \u001b[0mgood_mod\u001b[0m\u001b[0;34m[\u001b[0m\u001b[0;34m-\u001b[0m\u001b[0;36m66\u001b[0m\u001b[0;34m:\u001b[0m\u001b[0;34m-\u001b[0m\u001b[0;36m38\u001b[0m\u001b[0;34m]\u001b[0m\u001b[0;34m.\u001b[0m\u001b[0mplot\u001b[0m\u001b[0;34m(\u001b[0m\u001b[0mkind\u001b[0m\u001b[0;34m=\u001b[0m\u001b[0;34m'line'\u001b[0m\u001b[0;34m,\u001b[0m\u001b[0mx\u001b[0m\u001b[0;34m=\u001b[0m\u001b[0;34m'days_to_marathon'\u001b[0m\u001b[0;34m,\u001b[0m\u001b[0my\u001b[0m\u001b[0;34m=\u001b[0m\u001b[0;34m'run_stress'\u001b[0m\u001b[0;34m)\u001b[0m\u001b[0;34m\u001b[0m\u001b[0m\n\u001b[0m",
      "\u001b[0;31mNameError\u001b[0m: name 'good_mod' is not defined"
     ]
    }
   ],
   "source": [
    "good_mod[-66:-38].plot(kind='line',x='days_to_marathon',y='run_stress')"
   ]
  },
  {
   "cell_type": "code",
   "execution_count": 276,
   "metadata": {
    "collapsed": false
   },
   "outputs": [],
   "source": [
    "weekday = good_mod[-66:-38]['days_to_marathon']%7"
   ]
  },
  {
   "cell_type": "code",
   "execution_count": 277,
   "metadata": {
    "collapsed": false
   },
   "outputs": [],
   "source": [
    "holder = good_mod[-66:-38].reset_index()"
   ]
  },
  {
   "cell_type": "code",
   "execution_count": 278,
   "metadata": {
    "collapsed": false
   },
   "outputs": [],
   "source": [
    "weekday = weekday.reset_index()\n",
    "del weekday['index']"
   ]
  },
  {
   "cell_type": "code",
   "execution_count": 279,
   "metadata": {
    "collapsed": false
   },
   "outputs": [],
   "source": [
    "weekday = weekday.rename(columns = {'days_to_marathon':'weekday'})"
   ]
  },
  {
   "cell_type": "code",
   "execution_count": 284,
   "metadata": {
    "collapsed": false
   },
   "outputs": [],
   "source": [
    "mod = pd.concat([holder, weekday], axis=1)\n",
    "del mod['index']\n",
    "del mod['days_to_marathon']"
   ]
  },
  {
   "cell_type": "markdown",
   "metadata": {},
   "source": [
    "mod"
   ]
  },
  {
   "cell_type": "code",
   "execution_count": 294,
   "metadata": {
    "collapsed": false
   },
   "outputs": [
    {
     "name": "stderr",
     "output_type": "stream",
     "text": [
      "/Users/Eddie/anaconda/lib/python2.7/site-packages/pymysql/cursors.py:134: Warning: Unknown table 'runnersdb.modu'\n",
      "  result = self._query(query)\n"
     ]
    }
   ],
   "source": [
    "# cur.execute(\"DROP TABLE IF EXISTS good_runners\")\n",
    "# good.to_sql(\"good_runners\",sqlEngine)\n",
    "# cur.execute(\"DROP TABLE IF EXISTS bad_runners\")\n",
    "# bad.to_sql(\"bad_runners\",sqlEngine)\n",
    "cur.execute(\"DROP TABLE IF EXISTS modu\")\n",
    "mod.to_sql(\"modu\",sqlEngine)"
   ]
  },
  {
   "cell_type": "code",
   "execution_count": 15,
   "metadata": {
    "collapsed": false
   },
   "outputs": [],
   "source": [
    "modu = pd.read_sql(\"SELECT AVG(run_stress),weekday FROM modu GROUP BY weekday\",con)"
   ]
  },
  {
   "cell_type": "code",
   "execution_count": 16,
   "metadata": {
    "collapsed": false
   },
   "outputs": [],
   "source": [
    "modu = modu.rename(columns = {'AVG(run_stress)':'stress'})"
   ]
  },
  {
   "cell_type": "markdown",
   "metadata": {
    "collapsed": false
   },
   "source": []
  },
  {
   "cell_type": "code",
   "execution_count": 17,
   "metadata": {
    "collapsed": false
   },
   "outputs": [
    {
     "data": {
      "text/html": [
       "<div style=\"max-height:1000px;max-width:1500px;overflow:auto;\">\n",
       "<table border=\"1\" class=\"dataframe\">\n",
       "  <thead>\n",
       "    <tr style=\"text-align: right;\">\n",
       "      <th></th>\n",
       "      <th>stress</th>\n",
       "      <th>weekday</th>\n",
       "    </tr>\n",
       "  </thead>\n",
       "  <tbody>\n",
       "    <tr>\n",
       "      <th>0</th>\n",
       "      <td>12.444128</td>\n",
       "      <td>0</td>\n",
       "    </tr>\n",
       "    <tr>\n",
       "      <th>1</th>\n",
       "      <td>8.105098</td>\n",
       "      <td>1</td>\n",
       "    </tr>\n",
       "    <tr>\n",
       "      <th>2</th>\n",
       "      <td>8.989077</td>\n",
       "      <td>2</td>\n",
       "    </tr>\n",
       "    <tr>\n",
       "      <th>3</th>\n",
       "      <td>8.576705</td>\n",
       "      <td>3</td>\n",
       "    </tr>\n",
       "    <tr>\n",
       "      <th>4</th>\n",
       "      <td>8.060092</td>\n",
       "      <td>4</td>\n",
       "    </tr>\n",
       "    <tr>\n",
       "      <th>5</th>\n",
       "      <td>10.380394</td>\n",
       "      <td>5</td>\n",
       "    </tr>\n",
       "    <tr>\n",
       "      <th>6</th>\n",
       "      <td>12.413208</td>\n",
       "      <td>6</td>\n",
       "    </tr>\n",
       "  </tbody>\n",
       "</table>\n",
       "</div>"
      ],
      "text/plain": [
       "      stress  weekday\n",
       "0  12.444128        0\n",
       "1   8.105098        1\n",
       "2   8.989077        2\n",
       "3   8.576705        3\n",
       "4   8.060092        4\n",
       "5  10.380394        5\n",
       "6  12.413208        6"
      ]
     },
     "execution_count": 17,
     "metadata": {},
     "output_type": "execute_result"
    }
   ],
   "source": [
    "modu['stress'] = modu['stress']*26.2\n",
    "modu"
   ]
  },
  {
   "cell_type": "code",
   "execution_count": 3,
   "metadata": {
    "collapsed": false
   },
   "outputs": [
    {
     "ename": "NameError",
     "evalue": "name 'modu' is not defined",
     "output_type": "error",
     "traceback": [
      "\u001b[0;31m---------------------------------------------------------------------------\u001b[0m",
      "\u001b[0;31mNameError\u001b[0m                                 Traceback (most recent call last)",
      "\u001b[0;32m<ipython-input-3-3fc0a571cf30>\u001b[0m in \u001b[0;36m<module>\u001b[0;34m()\u001b[0m\n\u001b[1;32m      1\u001b[0m \u001b[0mcur\u001b[0m\u001b[0;34m.\u001b[0m\u001b[0mexecute\u001b[0m\u001b[0;34m(\u001b[0m\u001b[0;34m\"DROP TABLE IF EXISTS week_stress\"\u001b[0m\u001b[0;34m)\u001b[0m\u001b[0;34m\u001b[0m\u001b[0m\n\u001b[0;32m----> 2\u001b[0;31m \u001b[0mmodu\u001b[0m\u001b[0;34m.\u001b[0m\u001b[0mto_sql\u001b[0m\u001b[0;34m(\u001b[0m\u001b[0;34m\"week_stress\"\u001b[0m\u001b[0;34m,\u001b[0m\u001b[0msqlEngine\u001b[0m\u001b[0;34m)\u001b[0m\u001b[0;34m\u001b[0m\u001b[0m\n\u001b[0m",
      "\u001b[0;31mNameError\u001b[0m: name 'modu' is not defined"
     ]
    }
   ],
   "source": [
    "cur.execute(\"DROP TABLE IF EXISTS week_stress\")\n",
    "modu.to_sql(\"week_stress\",sqlEngine)"
   ]
  },
  {
   "cell_type": "code",
   "execution_count": 10,
   "metadata": {
    "collapsed": true
   },
   "outputs": [],
   "source": [
    "import datetime"
   ]
  },
  {
   "cell_type": "code",
   "execution_count": 11,
   "metadata": {
    "collapsed": false
   },
   "outputs": [
    {
     "data": {
      "text/plain": [
       "0"
      ]
     },
     "execution_count": 11,
     "metadata": {},
     "output_type": "execute_result"
    }
   ],
   "source": [
    "datetime.datetime.today().weekday()"
   ]
  },
  {
   "cell_type": "code",
   "execution_count": 12,
   "metadata": {
    "collapsed": false
   },
   "outputs": [],
   "source": [
    "day_names = pd.DataFrame(['Sun','Mon','Tues','Weds','Thurs','Fri','Sat'])"
   ]
  },
  {
   "cell_type": "code",
   "execution_count": 13,
   "metadata": {
    "collapsed": false
   },
   "outputs": [],
   "source": [
    "modu_new = pd.concat([modu,day_names],axis=1)\n",
    "modu_new = modu_new.rename(columns = {0:'day'})"
   ]
  },
  {
   "cell_type": "markdown",
   "metadata": {
    "collapsed": false
   },
   "source": [
    "modu_new"
   ]
  },
  {
   "cell_type": "code",
   "execution_count": 394,
   "metadata": {
    "collapsed": false
   },
   "outputs": [
    {
     "data": {
      "text/plain": [
       "<matplotlib.text.Text at 0x126da1610>"
      ]
     },
     "execution_count": 394,
     "metadata": {},
     "output_type": "execute_result"
    },
    {
     "data": {
      "image/png": "[encoded data removed]",
      "text/plain": [
       "<matplotlib.figure.Figure at 0x127a1ec90>"
      ]
     },
     "metadata": {},
     "output_type": "display_data"
    }
   ],
   "source": [
    "modu_new.plot(kind='line',x='day',y='stress',legend=False,color = 'orange')\n",
    "plt.xlabel('')\n",
    "plt.ylabel('Average Stress')\n",
    "plt.title('Weekday average for goal achievers')"
   ]
  },
  {
   "cell_type": "code",
   "execution_count": null,
   "metadata": {
    "collapsed": false
   },
   "outputs": [],
   "source": []
  },
  {
   "cell_type": "code",
   "execution_count": 370,
   "metadata": {
    "collapsed": false
   },
   "outputs": [],
   "source": [
    "add_me = pd.DataFrame([[modu_new.stress[0],modu_new.weekday[0],modu_new.day[0]]])\n",
    "add_me = add_me.rename(columns = {0:'stress',1:'weekday',2:'day'})"
   ]
  },
  {
   "cell_type": "code",
   "execution_count": 371,
   "metadata": {
    "collapsed": true
   },
   "outputs": [],
   "source": [
    "modu_new = modu_new.append(add_me)"
   ]
  },
  {
   "cell_type": "code",
   "execution_count": 372,
   "metadata": {
    "collapsed": false
   },
   "outputs": [
    {
     "data": {
      "text/html": [
       "<div style=\"max-height:1000px;max-width:1500px;overflow:auto;\">\n",
       "<table border=\"1\" class=\"dataframe\">\n",
       "  <thead>\n",
       "    <tr style=\"text-align: right;\">\n",
       "      <th></th>\n",
       "      <th>stress</th>\n",
       "      <th>weekday</th>\n",
       "      <th>day</th>\n",
       "    </tr>\n",
       "  </thead>\n",
       "  <tbody>\n",
       "    <tr>\n",
       "      <th>0</th>\n",
       "      <td>0.474967</td>\n",
       "      <td>0</td>\n",
       "      <td>Sun</td>\n",
       "    </tr>\n",
       "    <tr>\n",
       "      <th>1</th>\n",
       "      <td>0.309355</td>\n",
       "      <td>1</td>\n",
       "      <td>Mon</td>\n",
       "    </tr>\n",
       "    <tr>\n",
       "      <th>2</th>\n",
       "      <td>0.343095</td>\n",
       "      <td>2</td>\n",
       "      <td>Tues</td>\n",
       "    </tr>\n",
       "    <tr>\n",
       "      <th>3</th>\n",
       "      <td>0.327355</td>\n",
       "      <td>3</td>\n",
       "      <td>Weds</td>\n",
       "    </tr>\n",
       "    <tr>\n",
       "      <th>4</th>\n",
       "      <td>0.307637</td>\n",
       "      <td>4</td>\n",
       "      <td>Thurs</td>\n",
       "    </tr>\n",
       "    <tr>\n",
       "      <th>5</th>\n",
       "      <td>0.396198</td>\n",
       "      <td>5</td>\n",
       "      <td>Fri</td>\n",
       "    </tr>\n",
       "    <tr>\n",
       "      <th>6</th>\n",
       "      <td>0.473787</td>\n",
       "      <td>6</td>\n",
       "      <td>Sat</td>\n",
       "    </tr>\n",
       "    <tr>\n",
       "      <th>0</th>\n",
       "      <td>0.474967</td>\n",
       "      <td>0</td>\n",
       "      <td>Sun</td>\n",
       "    </tr>\n",
       "  </tbody>\n",
       "</table>\n",
       "</div>"
      ],
      "text/plain": [
       "     stress  weekday    day\n",
       "0  0.474967        0    Sun\n",
       "1  0.309355        1    Mon\n",
       "2  0.343095        2   Tues\n",
       "3  0.327355        3   Weds\n",
       "4  0.307637        4  Thurs\n",
       "5  0.396198        5    Fri\n",
       "6  0.473787        6    Sat\n",
       "0  0.474967        0    Sun"
      ]
     },
     "execution_count": 372,
     "metadata": {},
     "output_type": "execute_result"
    }
   ],
   "source": [
    "modu_new"
   ]
  },
  {
   "cell_type": "code",
   "execution_count": 358,
   "metadata": {
    "collapsed": false
   },
   "outputs": [
    {
     "data": {
      "text/html": [
       "<div style=\"max-height:1000px;max-width:1500px;overflow:auto;\">\n",
       "<table border=\"1\" class=\"dataframe\">\n",
       "  <thead>\n",
       "    <tr style=\"text-align: right;\">\n",
       "      <th></th>\n",
       "      <th>stress</th>\n",
       "      <th>weekday</th>\n",
       "      <th>day</th>\n",
       "    </tr>\n",
       "  </thead>\n",
       "  <tbody>\n",
       "    <tr>\n",
       "      <th>0</th>\n",
       "      <td>0.474967</td>\n",
       "      <td>0</td>\n",
       "      <td>Sunday</td>\n",
       "    </tr>\n",
       "  </tbody>\n",
       "</table>\n",
       "</div>"
      ],
      "text/plain": [
       "     stress  weekday     day\n",
       "0  0.474967        0  Sunday"
      ]
     },
     "execution_count": 358,
     "metadata": {},
     "output_type": "execute_result"
    }
   ],
   "source": [
    "add_me"
   ]
  },
  {
   "cell_type": "code",
   "execution_count": null,
   "metadata": {
    "collapsed": false
   },
   "outputs": [],
   "source": []
  },
  {
   "cell_type": "code",
   "execution_count": null,
   "metadata": {
    "collapsed": false
   },
   "outputs": [],
   "source": []
  },
  {
   "cell_type": "code",
   "execution_count": null,
   "metadata": {
    "collapsed": false
   },
   "outputs": [],
   "source": []
  },
  {
   "cell_type": "code",
   "execution_count": null,
   "metadata": {
    "collapsed": false
   },
   "outputs": [],
   "source": []
  },
  {
   "cell_type": "code",
   "execution_count": null,
   "metadata": {
    "collapsed": false
   },
   "outputs": [],
   "source": []
  },
  {
   "cell_type": "code",
   "execution_count": null,
   "metadata": {
    "collapsed": false
   },
   "outputs": [],
   "source": []
  },
  {
   "cell_type": "code",
   "execution_count": null,
   "metadata": {
    "collapsed": false
   },
   "outputs": [],
   "source": []
  },
  {
   "cell_type": "code",
   "execution_count": null,
   "metadata": {
    "collapsed": false
   },
   "outputs": [],
   "source": []
  },
  {
   "cell_type": "code",
   "execution_count": null,
   "metadata": {
    "collapsed": false
   },
   "outputs": [],
   "source": []
  },
  {
   "cell_type": "code",
   "execution_count": null,
   "metadata": {
    "collapsed": true
   },
   "outputs": [],
   "source": []
  },
  {
   "cell_type": "code",
   "execution_count": null,
   "metadata": {
    "collapsed": false
   },
   "outputs": [],
   "source": []
  },
  {
   "cell_type": "code",
   "execution_count": null,
   "metadata": {
    "collapsed": false
   },
   "outputs": [],
   "source": []
  },
  {
   "cell_type": "code",
   "execution_count": null,
   "metadata": {
    "collapsed": false
   },
   "outputs": [],
   "source": []
  },
  {
   "cell_type": "code",
   "execution_count": null,
   "metadata": {
    "collapsed": false
   },
   "outputs": [],
   "source": []
  },
  {
   "cell_type": "code",
   "execution_count": null,
   "metadata": {
    "collapsed": false
   },
   "outputs": [],
   "source": []
  },
  {
   "cell_type": "code",
   "execution_count": null,
   "metadata": {
    "collapsed": false
   },
   "outputs": [],
   "source": []
  },
  {
   "cell_type": "code",
   "execution_count": 49,
   "metadata": {
    "collapsed": false
   },
   "outputs": [
    {
     "ename": "ImportError",
     "evalue": "dlopen(/Users/Eddie/anaconda/lib/python2.7/site-packages/scipy/special/_ufuncs.so, 2): Library not loaded: /usr/local/lib/gcc/4.9/libgfortran.3.dylib\n  Referenced from: /Users/Eddie/anaconda/lib/python2.7/site-packages/scipy/special/_ufuncs.so\n  Reason: image not found",
     "output_type": "error",
     "traceback": [
      "\u001b[0;31m---------------------------------------------------------------------------\u001b[0m",
      "\u001b[0;31mImportError\u001b[0m                               Traceback (most recent call last)",
      "\u001b[0;32m<ipython-input-49-5f262cfcb99b>\u001b[0m in \u001b[0;36m<module>\u001b[0;34m()\u001b[0m\n\u001b[0;32m----> 1\u001b[0;31m \u001b[0;32mimport\u001b[0m \u001b[0mpymc\u001b[0m\u001b[0;34m\u001b[0m\u001b[0m\n\u001b[0m",
      "\u001b[0;32m/Users/Eddie/anaconda/lib/python2.7/site-packages/pymc/__init__.pyc\u001b[0m in \u001b[0;36m<module>\u001b[0;34m()\u001b[0m\n\u001b[1;32m     30\u001b[0m \u001b[0;32mfrom\u001b[0m \u001b[0;34m.\u001b[0m\u001b[0mCommonDeterministics\u001b[0m \u001b[0;32mimport\u001b[0m \u001b[0;34m*\u001b[0m\u001b[0;34m\u001b[0m\u001b[0m\n\u001b[1;32m     31\u001b[0m \u001b[0;32mfrom\u001b[0m \u001b[0;34m.\u001b[0m\u001b[0mNumpyDeterministics\u001b[0m \u001b[0;32mimport\u001b[0m \u001b[0;34m*\u001b[0m\u001b[0;34m\u001b[0m\u001b[0m\n\u001b[0;32m---> 32\u001b[0;31m \u001b[0;32mfrom\u001b[0m \u001b[0;34m.\u001b[0m\u001b[0mdistributions\u001b[0m \u001b[0;32mimport\u001b[0m \u001b[0;34m*\u001b[0m\u001b[0;34m\u001b[0m\u001b[0m\n\u001b[0m\u001b[1;32m     33\u001b[0m \u001b[0;32mfrom\u001b[0m \u001b[0;34m.\u001b[0m\u001b[0mModel\u001b[0m \u001b[0;32mimport\u001b[0m \u001b[0;34m*\u001b[0m\u001b[0;34m\u001b[0m\u001b[0m\n\u001b[1;32m     34\u001b[0m \u001b[0;32mfrom\u001b[0m \u001b[0;34m.\u001b[0m\u001b[0mStepMethods\u001b[0m \u001b[0;32mimport\u001b[0m \u001b[0;34m*\u001b[0m\u001b[0;34m\u001b[0m\u001b[0m\n",
      "\u001b[0;32m/Users/Eddie/anaconda/lib/python2.7/site-packages/pymc/distributions.py\u001b[0m in \u001b[0;36m<module>\u001b[0;34m()\u001b[0m\n\u001b[1;32m     30\u001b[0m \u001b[0;32mfrom\u001b[0m \u001b[0;34m.\u001b[0m \u001b[0;32mimport\u001b[0m \u001b[0mflib\u001b[0m\u001b[0;34m,\u001b[0m \u001b[0mutils\u001b[0m\u001b[0;34m\u001b[0m\u001b[0m\n\u001b[1;32m     31\u001b[0m \u001b[0;32mimport\u001b[0m \u001b[0mnumpy\u001b[0m \u001b[0;32mas\u001b[0m \u001b[0mnp\u001b[0m\u001b[0;34m\u001b[0m\u001b[0m\n\u001b[0;32m---> 32\u001b[0;31m \u001b[0;32mfrom\u001b[0m \u001b[0mscipy\u001b[0m\u001b[0;34m.\u001b[0m\u001b[0mstats\u001b[0m\u001b[0;34m.\u001b[0m\u001b[0mkde\u001b[0m \u001b[0;32mimport\u001b[0m \u001b[0mgaussian_kde\u001b[0m\u001b[0;34m\u001b[0m\u001b[0m\n\u001b[0m\u001b[1;32m     33\u001b[0m \u001b[0;32mfrom\u001b[0m \u001b[0;34m.\u001b[0m\u001b[0mNode\u001b[0m \u001b[0;32mimport\u001b[0m \u001b[0mZeroProbability\u001b[0m\u001b[0;34m\u001b[0m\u001b[0m\n\u001b[1;32m     34\u001b[0m \u001b[0;32mfrom\u001b[0m \u001b[0;34m.\u001b[0m\u001b[0mPyMCObjects\u001b[0m \u001b[0;32mimport\u001b[0m \u001b[0mStochastic\u001b[0m\u001b[0;34m,\u001b[0m \u001b[0mDeterministic\u001b[0m\u001b[0;34m\u001b[0m\u001b[0m\n",
      "\u001b[0;32m/Users/Eddie/anaconda/lib/python2.7/site-packages/scipy/stats/__init__.py\u001b[0m in \u001b[0;36m<module>\u001b[0;34m()\u001b[0m\n\u001b[1;32m    336\u001b[0m \u001b[0;32mfrom\u001b[0m \u001b[0m__future__\u001b[0m \u001b[0;32mimport\u001b[0m \u001b[0mdivision\u001b[0m\u001b[0;34m,\u001b[0m \u001b[0mprint_function\u001b[0m\u001b[0;34m,\u001b[0m \u001b[0mabsolute_import\u001b[0m\u001b[0;34m\u001b[0m\u001b[0m\n\u001b[1;32m    337\u001b[0m \u001b[0;34m\u001b[0m\u001b[0m\n\u001b[0;32m--> 338\u001b[0;31m \u001b[0;32mfrom\u001b[0m \u001b[0;34m.\u001b[0m\u001b[0mstats\u001b[0m \u001b[0;32mimport\u001b[0m \u001b[0;34m*\u001b[0m\u001b[0;34m\u001b[0m\u001b[0m\n\u001b[0m\u001b[1;32m    339\u001b[0m \u001b[0;32mfrom\u001b[0m \u001b[0;34m.\u001b[0m\u001b[0mdistributions\u001b[0m \u001b[0;32mimport\u001b[0m \u001b[0;34m*\u001b[0m\u001b[0;34m\u001b[0m\u001b[0m\n\u001b[1;32m    340\u001b[0m \u001b[0;32mfrom\u001b[0m \u001b[0;34m.\u001b[0m\u001b[0mrv\u001b[0m \u001b[0;32mimport\u001b[0m \u001b[0;34m*\u001b[0m\u001b[0;34m\u001b[0m\u001b[0m\n",
      "\u001b[0;32m/Users/Eddie/anaconda/lib/python2.7/site-packages/scipy/stats/stats.py\u001b[0m in \u001b[0;36m<module>\u001b[0;34m()\u001b[0m\n\u001b[1;32m    182\u001b[0m \u001b[0;32mfrom\u001b[0m \u001b[0mscipy\u001b[0m\u001b[0;34m.\u001b[0m\u001b[0mlib\u001b[0m\u001b[0;34m.\u001b[0m\u001b[0msix\u001b[0m \u001b[0;32mimport\u001b[0m \u001b[0mcallable\u001b[0m\u001b[0;34m,\u001b[0m \u001b[0mstring_types\u001b[0m\u001b[0;34m\u001b[0m\u001b[0m\n\u001b[1;32m    183\u001b[0m \u001b[0;32mfrom\u001b[0m \u001b[0mnumpy\u001b[0m \u001b[0;32mimport\u001b[0m \u001b[0marray\u001b[0m\u001b[0;34m,\u001b[0m \u001b[0masarray\u001b[0m\u001b[0;34m,\u001b[0m \u001b[0mma\u001b[0m\u001b[0;34m,\u001b[0m \u001b[0mzeros\u001b[0m\u001b[0;34m,\u001b[0m \u001b[0msum\u001b[0m\u001b[0;34m\u001b[0m\u001b[0m\n\u001b[0;32m--> 184\u001b[0;31m \u001b[0;32mimport\u001b[0m \u001b[0mscipy\u001b[0m\u001b[0;34m.\u001b[0m\u001b[0mspecial\u001b[0m \u001b[0;32mas\u001b[0m \u001b[0mspecial\u001b[0m\u001b[0;34m\u001b[0m\u001b[0m\n\u001b[0m\u001b[1;32m    185\u001b[0m \u001b[0;32mimport\u001b[0m \u001b[0mscipy\u001b[0m\u001b[0;34m.\u001b[0m\u001b[0mlinalg\u001b[0m \u001b[0;32mas\u001b[0m \u001b[0mlinalg\u001b[0m\u001b[0;34m\u001b[0m\u001b[0m\n\u001b[1;32m    186\u001b[0m \u001b[0;32mimport\u001b[0m \u001b[0mnumpy\u001b[0m \u001b[0;32mas\u001b[0m \u001b[0mnp\u001b[0m\u001b[0;34m\u001b[0m\u001b[0m\n",
      "\u001b[0;32m/Users/Eddie/anaconda/lib/python2.7/site-packages/scipy/special/__init__.py\u001b[0m in \u001b[0;36m<module>\u001b[0;34m()\u001b[0m\n\u001b[1;32m    584\u001b[0m \u001b[0;32mfrom\u001b[0m \u001b[0m__future__\u001b[0m \u001b[0;32mimport\u001b[0m \u001b[0mdivision\u001b[0m\u001b[0;34m,\u001b[0m \u001b[0mprint_function\u001b[0m\u001b[0;34m,\u001b[0m \u001b[0mabsolute_import\u001b[0m\u001b[0;34m\u001b[0m\u001b[0m\n\u001b[1;32m    585\u001b[0m \u001b[0;34m\u001b[0m\u001b[0m\n\u001b[0;32m--> 586\u001b[0;31m \u001b[0;32mfrom\u001b[0m \u001b[0;34m.\u001b[0m\u001b[0m_ufuncs\u001b[0m \u001b[0;32mimport\u001b[0m \u001b[0;34m*\u001b[0m\u001b[0;34m\u001b[0m\u001b[0m\n\u001b[0m\u001b[1;32m    587\u001b[0m \u001b[0;34m\u001b[0m\u001b[0m\n\u001b[1;32m    588\u001b[0m \u001b[0;32mfrom\u001b[0m \u001b[0;34m.\u001b[0m\u001b[0mbasic\u001b[0m \u001b[0;32mimport\u001b[0m \u001b[0;34m*\u001b[0m\u001b[0;34m\u001b[0m\u001b[0m\n",
      "\u001b[0;31mImportError\u001b[0m: dlopen(/Users/Eddie/anaconda/lib/python2.7/site-packages/scipy/special/_ufuncs.so, 2): Library not loaded: /usr/local/lib/gcc/4.9/libgfortran.3.dylib\n  Referenced from: /Users/Eddie/anaconda/lib/python2.7/site-packages/scipy/special/_ufuncs.so\n  Reason: image not found"
     ]
    }
   ],
   "source": [
    "import pymc"
   ]
  },
  {
   "cell_type": "code",
   "execution_count": 102,
   "metadata": {
    "collapsed": false
   },
   "outputs": [
    {
     "data": {
      "text/html": [
       "<div style=\"max-height:1000px;max-width:1500px;overflow:auto;\">\n",
       "<table border=\"1\" class=\"dataframe\">\n",
       "  <thead>\n",
       "    <tr style=\"text-align: right;\">\n",
       "      <th></th>\n",
       "      <th>user</th>\n",
       "      <th>race</th>\n",
       "      <th>marathon_success</th>\n",
       "      <th>run_stress</th>\n",
       "      <th>run_difficulty</th>\n",
       "    </tr>\n",
       "    <tr>\n",
       "      <th>days_to_marathon</th>\n",
       "      <th></th>\n",
       "      <th></th>\n",
       "      <th></th>\n",
       "      <th></th>\n",
       "      <th></th>\n",
       "    </tr>\n",
       "  </thead>\n",
       "  <tbody>\n",
       "    <tr>\n",
       "      <th>-78</th>\n",
       "      <td>1535</td>\n",
       "      <td>Boston Marathon</td>\n",
       "      <td>0.291667</td>\n",
       "      <td>0.025345</td>\n",
       "      <td>1.000000e+00</td>\n",
       "    </tr>\n",
       "    <tr>\n",
       "      <th>-77</th>\n",
       "      <td>1535</td>\n",
       "      <td>Boston Marathon</td>\n",
       "      <td>0.291667</td>\n",
       "      <td>0.443394</td>\n",
       "      <td>3.000000e+00</td>\n",
       "    </tr>\n",
       "    <tr>\n",
       "      <th>-76</th>\n",
       "      <td>1535</td>\n",
       "      <td>Boston Marathon</td>\n",
       "      <td>0.291667</td>\n",
       "      <td>0.154642</td>\n",
       "      <td>1.000000e+00</td>\n",
       "    </tr>\n",
       "    <tr>\n",
       "      <th>-75</th>\n",
       "      <td>1535</td>\n",
       "      <td>Boston Marathon</td>\n",
       "      <td>0.291667</td>\n",
       "      <td>0.272283</td>\n",
       "      <td>2.000000e+00</td>\n",
       "    </tr>\n",
       "    <tr>\n",
       "      <th>-74</th>\n",
       "      <td>1535</td>\n",
       "      <td>Boston Marathon</td>\n",
       "      <td>0.291667</td>\n",
       "      <td>0.675866</td>\n",
       "      <td>4.000000e+00</td>\n",
       "    </tr>\n",
       "    <tr>\n",
       "      <th>-73</th>\n",
       "      <td>1535</td>\n",
       "      <td>Boston Marathon</td>\n",
       "      <td>0.291667</td>\n",
       "      <td>0.000000</td>\n",
       "      <td>0.000000e+00</td>\n",
       "    </tr>\n",
       "    <tr>\n",
       "      <th>-72</th>\n",
       "      <td>1535</td>\n",
       "      <td>Boston Marathon</td>\n",
       "      <td>0.291667</td>\n",
       "      <td>0.480314</td>\n",
       "      <td>3.000000e+00</td>\n",
       "    </tr>\n",
       "    <tr>\n",
       "      <th>-71</th>\n",
       "      <td>1535</td>\n",
       "      <td>Boston Marathon</td>\n",
       "      <td>0.291667</td>\n",
       "      <td>0.474229</td>\n",
       "      <td>3.000000e+00</td>\n",
       "    </tr>\n",
       "    <tr>\n",
       "      <th>-70</th>\n",
       "      <td>1535</td>\n",
       "      <td>Boston Marathon</td>\n",
       "      <td>0.291667</td>\n",
       "      <td>0.000000</td>\n",
       "      <td>0.000000e+00</td>\n",
       "    </tr>\n",
       "    <tr>\n",
       "      <th>-69</th>\n",
       "      <td>1535</td>\n",
       "      <td>Boston Marathon</td>\n",
       "      <td>0.291667</td>\n",
       "      <td>0.451179</td>\n",
       "      <td>3.000000e+00</td>\n",
       "    </tr>\n",
       "    <tr>\n",
       "      <th>-68</th>\n",
       "      <td>1535</td>\n",
       "      <td>Boston Marathon</td>\n",
       "      <td>0.291667</td>\n",
       "      <td>0.019816</td>\n",
       "      <td>1.000000e+00</td>\n",
       "    </tr>\n",
       "    <tr>\n",
       "      <th>-67</th>\n",
       "      <td>1535</td>\n",
       "      <td>Boston Marathon</td>\n",
       "      <td>0.291667</td>\n",
       "      <td>0.315984</td>\n",
       "      <td>3.000000e+00</td>\n",
       "    </tr>\n",
       "    <tr>\n",
       "      <th>-66</th>\n",
       "      <td>1535</td>\n",
       "      <td>Boston Marathon</td>\n",
       "      <td>0.291667</td>\n",
       "      <td>0.179367</td>\n",
       "      <td>1.000000e+00</td>\n",
       "    </tr>\n",
       "    <tr>\n",
       "      <th>-65</th>\n",
       "      <td>1535</td>\n",
       "      <td>Boston Marathon</td>\n",
       "      <td>0.291667</td>\n",
       "      <td>0.713704</td>\n",
       "      <td>-9.223372e+18</td>\n",
       "    </tr>\n",
       "    <tr>\n",
       "      <th>-64</th>\n",
       "      <td>1535</td>\n",
       "      <td>Boston Marathon</td>\n",
       "      <td>0.291667</td>\n",
       "      <td>0.283898</td>\n",
       "      <td>2.000000e+00</td>\n",
       "    </tr>\n",
       "    <tr>\n",
       "      <th>-63</th>\n",
       "      <td>1535</td>\n",
       "      <td>Boston Marathon</td>\n",
       "      <td>0.291667</td>\n",
       "      <td>0.000000</td>\n",
       "      <td>0.000000e+00</td>\n",
       "    </tr>\n",
       "    <tr>\n",
       "      <th>-62</th>\n",
       "      <td>1535</td>\n",
       "      <td>Boston Marathon</td>\n",
       "      <td>0.291667</td>\n",
       "      <td>0.036661</td>\n",
       "      <td>1.000000e+00</td>\n",
       "    </tr>\n",
       "    <tr>\n",
       "      <th>-61</th>\n",
       "      <td>1535</td>\n",
       "      <td>Boston Marathon</td>\n",
       "      <td>0.291667</td>\n",
       "      <td>0.351215</td>\n",
       "      <td>3.000000e+00</td>\n",
       "    </tr>\n",
       "    <tr>\n",
       "      <th>-60</th>\n",
       "      <td>1535</td>\n",
       "      <td>Boston Marathon</td>\n",
       "      <td>0.291667</td>\n",
       "      <td>0.000000</td>\n",
       "      <td>0.000000e+00</td>\n",
       "    </tr>\n",
       "    <tr>\n",
       "      <th>-59</th>\n",
       "      <td>1535</td>\n",
       "      <td>Boston Marathon</td>\n",
       "      <td>0.291667</td>\n",
       "      <td>0.307981</td>\n",
       "      <td>2.000000e+00</td>\n",
       "    </tr>\n",
       "    <tr>\n",
       "      <th>-58</th>\n",
       "      <td>1535</td>\n",
       "      <td>Boston Marathon</td>\n",
       "      <td>0.291667</td>\n",
       "      <td>0.646429</td>\n",
       "      <td>4.000000e+00</td>\n",
       "    </tr>\n",
       "    <tr>\n",
       "      <th>-57</th>\n",
       "      <td>1535</td>\n",
       "      <td>Boston Marathon</td>\n",
       "      <td>0.291667</td>\n",
       "      <td>0.000000</td>\n",
       "      <td>0.000000e+00</td>\n",
       "    </tr>\n",
       "    <tr>\n",
       "      <th>-56</th>\n",
       "      <td>1535</td>\n",
       "      <td>Boston Marathon</td>\n",
       "      <td>0.291667</td>\n",
       "      <td>0.348064</td>\n",
       "      <td>3.000000e+00</td>\n",
       "    </tr>\n",
       "    <tr>\n",
       "      <th>-55</th>\n",
       "      <td>1535</td>\n",
       "      <td>Boston Marathon</td>\n",
       "      <td>0.291667</td>\n",
       "      <td>0.000000</td>\n",
       "      <td>0.000000e+00</td>\n",
       "    </tr>\n",
       "    <tr>\n",
       "      <th>-54</th>\n",
       "      <td>1535</td>\n",
       "      <td>Boston Marathon</td>\n",
       "      <td>0.291667</td>\n",
       "      <td>0.199075</td>\n",
       "      <td>2.000000e+00</td>\n",
       "    </tr>\n",
       "    <tr>\n",
       "      <th>-53</th>\n",
       "      <td>1535</td>\n",
       "      <td>Boston Marathon</td>\n",
       "      <td>0.291667</td>\n",
       "      <td>0.413568</td>\n",
       "      <td>3.000000e+00</td>\n",
       "    </tr>\n",
       "    <tr>\n",
       "      <th>-52</th>\n",
       "      <td>1535</td>\n",
       "      <td>Boston Marathon</td>\n",
       "      <td>0.291667</td>\n",
       "      <td>0.251802</td>\n",
       "      <td>2.000000e+00</td>\n",
       "    </tr>\n",
       "    <tr>\n",
       "      <th>-51</th>\n",
       "      <td>1535</td>\n",
       "      <td>Boston Marathon</td>\n",
       "      <td>0.291667</td>\n",
       "      <td>0.379735</td>\n",
       "      <td>3.000000e+00</td>\n",
       "    </tr>\n",
       "    <tr>\n",
       "      <th>-50</th>\n",
       "      <td>1535</td>\n",
       "      <td>Boston Marathon</td>\n",
       "      <td>0.291667</td>\n",
       "      <td>0.000000</td>\n",
       "      <td>0.000000e+00</td>\n",
       "    </tr>\n",
       "    <tr>\n",
       "      <th>-49</th>\n",
       "      <td>1535</td>\n",
       "      <td>Boston Marathon</td>\n",
       "      <td>0.291667</td>\n",
       "      <td>0.000000</td>\n",
       "      <td>0.000000e+00</td>\n",
       "    </tr>\n",
       "    <tr>\n",
       "      <th>...</th>\n",
       "      <td>...</td>\n",
       "      <td>...</td>\n",
       "      <td>...</td>\n",
       "      <td>...</td>\n",
       "      <td>...</td>\n",
       "    </tr>\n",
       "    <tr>\n",
       "      <th>-40</th>\n",
       "      <td>8833644</td>\n",
       "      <td>Big Sur Marathon</td>\n",
       "      <td>4.150794</td>\n",
       "      <td>0.000000</td>\n",
       "      <td>0.000000e+00</td>\n",
       "    </tr>\n",
       "    <tr>\n",
       "      <th>-39</th>\n",
       "      <td>8833644</td>\n",
       "      <td>Big Sur Marathon</td>\n",
       "      <td>4.150794</td>\n",
       "      <td>0.223008</td>\n",
       "      <td>2.000000e+00</td>\n",
       "    </tr>\n",
       "    <tr>\n",
       "      <th>-38</th>\n",
       "      <td>8833644</td>\n",
       "      <td>Big Sur Marathon</td>\n",
       "      <td>4.150794</td>\n",
       "      <td>0.220645</td>\n",
       "      <td>2.000000e+00</td>\n",
       "    </tr>\n",
       "    <tr>\n",
       "      <th>-37</th>\n",
       "      <td>8833644</td>\n",
       "      <td>Big Sur Marathon</td>\n",
       "      <td>4.150794</td>\n",
       "      <td>0.000000</td>\n",
       "      <td>0.000000e+00</td>\n",
       "    </tr>\n",
       "    <tr>\n",
       "      <th>-36</th>\n",
       "      <td>8833644</td>\n",
       "      <td>Big Sur Marathon</td>\n",
       "      <td>4.150794</td>\n",
       "      <td>0.000000</td>\n",
       "      <td>0.000000e+00</td>\n",
       "    </tr>\n",
       "    <tr>\n",
       "      <th>-35</th>\n",
       "      <td>8833644</td>\n",
       "      <td>Big Sur Marathon</td>\n",
       "      <td>4.150794</td>\n",
       "      <td>0.543136</td>\n",
       "      <td>4.000000e+00</td>\n",
       "    </tr>\n",
       "    <tr>\n",
       "      <th>-34</th>\n",
       "      <td>8833644</td>\n",
       "      <td>Big Sur Marathon</td>\n",
       "      <td>4.150794</td>\n",
       "      <td>0.000000</td>\n",
       "      <td>0.000000e+00</td>\n",
       "    </tr>\n",
       "    <tr>\n",
       "      <th>-33</th>\n",
       "      <td>8833644</td>\n",
       "      <td>Big Sur Marathon</td>\n",
       "      <td>4.150794</td>\n",
       "      <td>0.000000</td>\n",
       "      <td>0.000000e+00</td>\n",
       "    </tr>\n",
       "    <tr>\n",
       "      <th>-32</th>\n",
       "      <td>8833644</td>\n",
       "      <td>Big Sur Marathon</td>\n",
       "      <td>4.150794</td>\n",
       "      <td>0.252915</td>\n",
       "      <td>2.000000e+00</td>\n",
       "    </tr>\n",
       "    <tr>\n",
       "      <th>-31</th>\n",
       "      <td>8833644</td>\n",
       "      <td>Big Sur Marathon</td>\n",
       "      <td>4.150794</td>\n",
       "      <td>0.000000</td>\n",
       "      <td>0.000000e+00</td>\n",
       "    </tr>\n",
       "    <tr>\n",
       "      <th>-30</th>\n",
       "      <td>8833644</td>\n",
       "      <td>Big Sur Marathon</td>\n",
       "      <td>4.150794</td>\n",
       "      <td>0.000000</td>\n",
       "      <td>0.000000e+00</td>\n",
       "    </tr>\n",
       "    <tr>\n",
       "      <th>-29</th>\n",
       "      <td>8833644</td>\n",
       "      <td>Big Sur Marathon</td>\n",
       "      <td>4.150794</td>\n",
       "      <td>0.000000</td>\n",
       "      <td>0.000000e+00</td>\n",
       "    </tr>\n",
       "    <tr>\n",
       "      <th>-28</th>\n",
       "      <td>8833644</td>\n",
       "      <td>Big Sur Marathon</td>\n",
       "      <td>4.150794</td>\n",
       "      <td>0.000000</td>\n",
       "      <td>0.000000e+00</td>\n",
       "    </tr>\n",
       "    <tr>\n",
       "      <th>-27</th>\n",
       "      <td>8833644</td>\n",
       "      <td>Big Sur Marathon</td>\n",
       "      <td>4.150794</td>\n",
       "      <td>0.000000</td>\n",
       "      <td>0.000000e+00</td>\n",
       "    </tr>\n",
       "    <tr>\n",
       "      <th>-26</th>\n",
       "      <td>8833644</td>\n",
       "      <td>Big Sur Marathon</td>\n",
       "      <td>4.150794</td>\n",
       "      <td>0.000000</td>\n",
       "      <td>0.000000e+00</td>\n",
       "    </tr>\n",
       "    <tr>\n",
       "      <th>-25</th>\n",
       "      <td>8833644</td>\n",
       "      <td>Big Sur Marathon</td>\n",
       "      <td>4.150794</td>\n",
       "      <td>0.000000</td>\n",
       "      <td>0.000000e+00</td>\n",
       "    </tr>\n",
       "    <tr>\n",
       "      <th>-24</th>\n",
       "      <td>8833644</td>\n",
       "      <td>Big Sur Marathon</td>\n",
       "      <td>4.150794</td>\n",
       "      <td>0.097178</td>\n",
       "      <td>1.000000e+00</td>\n",
       "    </tr>\n",
       "    <tr>\n",
       "      <th>-23</th>\n",
       "      <td>8833644</td>\n",
       "      <td>Big Sur Marathon</td>\n",
       "      <td>4.150794</td>\n",
       "      <td>0.035199</td>\n",
       "      <td>1.000000e+00</td>\n",
       "    </tr>\n",
       "    <tr>\n",
       "      <th>-22</th>\n",
       "      <td>8833644</td>\n",
       "      <td>Big Sur Marathon</td>\n",
       "      <td>4.150794</td>\n",
       "      <td>0.186479</td>\n",
       "      <td>1.000000e+00</td>\n",
       "    </tr>\n",
       "    <tr>\n",
       "      <th>-21</th>\n",
       "      <td>8833644</td>\n",
       "      <td>Big Sur Marathon</td>\n",
       "      <td>4.150794</td>\n",
       "      <td>0.472564</td>\n",
       "      <td>3.000000e+00</td>\n",
       "    </tr>\n",
       "    <tr>\n",
       "      <th>-20</th>\n",
       "      <td>8833644</td>\n",
       "      <td>Big Sur Marathon</td>\n",
       "      <td>4.150794</td>\n",
       "      <td>0.000000</td>\n",
       "      <td>0.000000e+00</td>\n",
       "    </tr>\n",
       "    <tr>\n",
       "      <th>-19</th>\n",
       "      <td>8833644</td>\n",
       "      <td>Big Sur Marathon</td>\n",
       "      <td>4.150794</td>\n",
       "      <td>0.000000</td>\n",
       "      <td>0.000000e+00</td>\n",
       "    </tr>\n",
       "    <tr>\n",
       "      <th>-18</th>\n",
       "      <td>8833644</td>\n",
       "      <td>Big Sur Marathon</td>\n",
       "      <td>4.150794</td>\n",
       "      <td>0.266929</td>\n",
       "      <td>2.000000e+00</td>\n",
       "    </tr>\n",
       "    <tr>\n",
       "      <th>-24</th>\n",
       "      <td>9161102</td>\n",
       "      <td>Bay of Mont Saint Michel Marathon</td>\n",
       "      <td>-1.851852</td>\n",
       "      <td>0.346339</td>\n",
       "      <td>3.000000e+00</td>\n",
       "    </tr>\n",
       "    <tr>\n",
       "      <th>-23</th>\n",
       "      <td>9161102</td>\n",
       "      <td>Bay of Mont Saint Michel Marathon</td>\n",
       "      <td>-1.851852</td>\n",
       "      <td>0.000000</td>\n",
       "      <td>0.000000e+00</td>\n",
       "    </tr>\n",
       "    <tr>\n",
       "      <th>-22</th>\n",
       "      <td>9161102</td>\n",
       "      <td>Bay of Mont Saint Michel Marathon</td>\n",
       "      <td>-1.851852</td>\n",
       "      <td>0.338497</td>\n",
       "      <td>3.000000e+00</td>\n",
       "    </tr>\n",
       "    <tr>\n",
       "      <th>-21</th>\n",
       "      <td>9161102</td>\n",
       "      <td>Bay of Mont Saint Michel Marathon</td>\n",
       "      <td>-1.851852</td>\n",
       "      <td>0.541802</td>\n",
       "      <td>4.000000e+00</td>\n",
       "    </tr>\n",
       "    <tr>\n",
       "      <th>-20</th>\n",
       "      <td>9161102</td>\n",
       "      <td>Bay of Mont Saint Michel Marathon</td>\n",
       "      <td>-1.851852</td>\n",
       "      <td>0.000000</td>\n",
       "      <td>0.000000e+00</td>\n",
       "    </tr>\n",
       "    <tr>\n",
       "      <th>-19</th>\n",
       "      <td>9161102</td>\n",
       "      <td>Bay of Mont Saint Michel Marathon</td>\n",
       "      <td>-1.851852</td>\n",
       "      <td>0.167263</td>\n",
       "      <td>1.000000e+00</td>\n",
       "    </tr>\n",
       "    <tr>\n",
       "      <th>-18</th>\n",
       "      <td>9161102</td>\n",
       "      <td>Bay of Mont Saint Michel Marathon</td>\n",
       "      <td>-1.851852</td>\n",
       "      <td>0.405253</td>\n",
       "      <td>3.000000e+00</td>\n",
       "    </tr>\n",
       "  </tbody>\n",
       "</table>\n",
       "<p>69852 rows × 5 columns</p>\n",
       "</div>"
      ],
      "text/plain": [
       "                     user                               race  \\\n",
       "days_to_marathon                                               \n",
       "-78                  1535                    Boston Marathon   \n",
       "-77                  1535                    Boston Marathon   \n",
       "-76                  1535                    Boston Marathon   \n",
       "-75                  1535                    Boston Marathon   \n",
       "-74                  1535                    Boston Marathon   \n",
       "-73                  1535                    Boston Marathon   \n",
       "-72                  1535                    Boston Marathon   \n",
       "-71                  1535                    Boston Marathon   \n",
       "-70                  1535                    Boston Marathon   \n",
       "-69                  1535                    Boston Marathon   \n",
       "-68                  1535                    Boston Marathon   \n",
       "-67                  1535                    Boston Marathon   \n",
       "-66                  1535                    Boston Marathon   \n",
       "-65                  1535                    Boston Marathon   \n",
       "-64                  1535                    Boston Marathon   \n",
       "-63                  1535                    Boston Marathon   \n",
       "-62                  1535                    Boston Marathon   \n",
       "-61                  1535                    Boston Marathon   \n",
       "-60                  1535                    Boston Marathon   \n",
       "-59                  1535                    Boston Marathon   \n",
       "-58                  1535                    Boston Marathon   \n",
       "-57                  1535                    Boston Marathon   \n",
       "-56                  1535                    Boston Marathon   \n",
       "-55                  1535                    Boston Marathon   \n",
       "-54                  1535                    Boston Marathon   \n",
       "-53                  1535                    Boston Marathon   \n",
       "-52                  1535                    Boston Marathon   \n",
       "-51                  1535                    Boston Marathon   \n",
       "-50                  1535                    Boston Marathon   \n",
       "-49                  1535                    Boston Marathon   \n",
       "...                   ...                                ...   \n",
       "-40               8833644                   Big Sur Marathon   \n",
       "-39               8833644                   Big Sur Marathon   \n",
       "-38               8833644                   Big Sur Marathon   \n",
       "-37               8833644                   Big Sur Marathon   \n",
       "-36               8833644                   Big Sur Marathon   \n",
       "-35               8833644                   Big Sur Marathon   \n",
       "-34               8833644                   Big Sur Marathon   \n",
       "-33               8833644                   Big Sur Marathon   \n",
       "-32               8833644                   Big Sur Marathon   \n",
       "-31               8833644                   Big Sur Marathon   \n",
       "-30               8833644                   Big Sur Marathon   \n",
       "-29               8833644                   Big Sur Marathon   \n",
       "-28               8833644                   Big Sur Marathon   \n",
       "-27               8833644                   Big Sur Marathon   \n",
       "-26               8833644                   Big Sur Marathon   \n",
       "-25               8833644                   Big Sur Marathon   \n",
       "-24               8833644                   Big Sur Marathon   \n",
       "-23               8833644                   Big Sur Marathon   \n",
       "-22               8833644                   Big Sur Marathon   \n",
       "-21               8833644                   Big Sur Marathon   \n",
       "-20               8833644                   Big Sur Marathon   \n",
       "-19               8833644                   Big Sur Marathon   \n",
       "-18               8833644                   Big Sur Marathon   \n",
       "-24               9161102  Bay of Mont Saint Michel Marathon   \n",
       "-23               9161102  Bay of Mont Saint Michel Marathon   \n",
       "-22               9161102  Bay of Mont Saint Michel Marathon   \n",
       "-21               9161102  Bay of Mont Saint Michel Marathon   \n",
       "-20               9161102  Bay of Mont Saint Michel Marathon   \n",
       "-19               9161102  Bay of Mont Saint Michel Marathon   \n",
       "-18               9161102  Bay of Mont Saint Michel Marathon   \n",
       "\n",
       "                  marathon_success  run_stress  run_difficulty  \n",
       "days_to_marathon                                                \n",
       "-78                       0.291667    0.025345    1.000000e+00  \n",
       "-77                       0.291667    0.443394    3.000000e+00  \n",
       "-76                       0.291667    0.154642    1.000000e+00  \n",
       "-75                       0.291667    0.272283    2.000000e+00  \n",
       "-74                       0.291667    0.675866    4.000000e+00  \n",
       "-73                       0.291667    0.000000    0.000000e+00  \n",
       "-72                       0.291667    0.480314    3.000000e+00  \n",
       "-71                       0.291667    0.474229    3.000000e+00  \n",
       "-70                       0.291667    0.000000    0.000000e+00  \n",
       "-69                       0.291667    0.451179    3.000000e+00  \n",
       "-68                       0.291667    0.019816    1.000000e+00  \n",
       "-67                       0.291667    0.315984    3.000000e+00  \n",
       "-66                       0.291667    0.179367    1.000000e+00  \n",
       "-65                       0.291667    0.713704   -9.223372e+18  \n",
       "-64                       0.291667    0.283898    2.000000e+00  \n",
       "-63                       0.291667    0.000000    0.000000e+00  \n",
       "-62                       0.291667    0.036661    1.000000e+00  \n",
       "-61                       0.291667    0.351215    3.000000e+00  \n",
       "-60                       0.291667    0.000000    0.000000e+00  \n",
       "-59                       0.291667    0.307981    2.000000e+00  \n",
       "-58                       0.291667    0.646429    4.000000e+00  \n",
       "-57                       0.291667    0.000000    0.000000e+00  \n",
       "-56                       0.291667    0.348064    3.000000e+00  \n",
       "-55                       0.291667    0.000000    0.000000e+00  \n",
       "-54                       0.291667    0.199075    2.000000e+00  \n",
       "-53                       0.291667    0.413568    3.000000e+00  \n",
       "-52                       0.291667    0.251802    2.000000e+00  \n",
       "-51                       0.291667    0.379735    3.000000e+00  \n",
       "-50                       0.291667    0.000000    0.000000e+00  \n",
       "-49                       0.291667    0.000000    0.000000e+00  \n",
       "...                            ...         ...             ...  \n",
       "-40                       4.150794    0.000000    0.000000e+00  \n",
       "-39                       4.150794    0.223008    2.000000e+00  \n",
       "-38                       4.150794    0.220645    2.000000e+00  \n",
       "-37                       4.150794    0.000000    0.000000e+00  \n",
       "-36                       4.150794    0.000000    0.000000e+00  \n",
       "-35                       4.150794    0.543136    4.000000e+00  \n",
       "-34                       4.150794    0.000000    0.000000e+00  \n",
       "-33                       4.150794    0.000000    0.000000e+00  \n",
       "-32                       4.150794    0.252915    2.000000e+00  \n",
       "-31                       4.150794    0.000000    0.000000e+00  \n",
       "-30                       4.150794    0.000000    0.000000e+00  \n",
       "-29                       4.150794    0.000000    0.000000e+00  \n",
       "-28                       4.150794    0.000000    0.000000e+00  \n",
       "-27                       4.150794    0.000000    0.000000e+00  \n",
       "-26                       4.150794    0.000000    0.000000e+00  \n",
       "-25                       4.150794    0.000000    0.000000e+00  \n",
       "-24                       4.150794    0.097178    1.000000e+00  \n",
       "-23                       4.150794    0.035199    1.000000e+00  \n",
       "-22                       4.150794    0.186479    1.000000e+00  \n",
       "-21                       4.150794    0.472564    3.000000e+00  \n",
       "-20                       4.150794    0.000000    0.000000e+00  \n",
       "-19                       4.150794    0.000000    0.000000e+00  \n",
       "-18                       4.150794    0.266929    2.000000e+00  \n",
       "-24                      -1.851852    0.346339    3.000000e+00  \n",
       "-23                      -1.851852    0.000000    0.000000e+00  \n",
       "-22                      -1.851852    0.338497    3.000000e+00  \n",
       "-21                      -1.851852    0.541802    4.000000e+00  \n",
       "-20                      -1.851852    0.000000    0.000000e+00  \n",
       "-19                      -1.851852    0.167263    1.000000e+00  \n",
       "-18                      -1.851852    0.405253    3.000000e+00  \n",
       "\n",
       "[69852 rows x 5 columns]"
      ]
     },
     "execution_count": 102,
     "metadata": {},
     "output_type": "execute_result"
    }
   ],
   "source": [
    "good"
   ]
  },
  {
   "cell_type": "code",
   "execution_count": null,
   "metadata": {
    "collapsed": true
   },
   "outputs": [],
   "source": []
  }
 ],
 "metadata": {
  "kernelspec": {
   "display_name": "Python 2",
   "language": "python",
   "name": "python2"
  },
  "language_info": {
   "codemirror_mode": {
    "name": "ipython",
    "version": 2
   },
   "file_extension": ".py",
   "mimetype": "text/x-python",
   "name": "python",
   "nbconvert_exporter": "python",
   "pygments_lexer": "ipython2",
   "version": "2.7.10"
  }
 },
 "nbformat": 4,
 "nbformat_minor": 0
}
