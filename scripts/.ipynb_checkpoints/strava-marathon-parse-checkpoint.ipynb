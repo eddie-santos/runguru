{
 "cells": [
  {
   "cell_type": "code",
   "execution_count": 498,
   "metadata": {
    "collapsed": true
   },
   "outputs": [],
   "source": [
    "import numpy as np\n",
    "import pandas as pd\n",
    "import re\n",
    "import sys\n",
    "import time\n",
    "import pymysql as mdb\n",
    "import sqlalchemy \n",
    "import matplotlib as plt"
   ]
  },
  {
   "cell_type": "code",
   "execution_count": 508,
   "metadata": {
    "collapsed": false
   },
   "outputs": [
    {
     "name": "stdout",
     "output_type": "stream",
     "text": [
      "2014-new-york-city\n",
      "2015-boston\n",
      "2014-san-francisco\n",
      "2014-chicago\n",
      "2014-honolulu\n",
      "2015-walt-disney-world\n",
      "2015-san-diego-rock-n-roll\n",
      "2014-twin-cities\n",
      "2014-berlin\n",
      "2014-dublin\n",
      "2015-big-sur\n"
     ]
    }
   ],
   "source": [
    "cities = [\"2014-new-york-city\",\"2015-boston\",\"2014-san-francisco\",\n",
    "      \"2014-chicago\",\"2014-honolulu\",\"2015-walt-disney-world\",\"2015-los-angeles\",\n",
    "      \"2015-san-diego-rock-n-roll\",\"2014-twin-cities\",\"2014-berlin\",\"2014-dublin\",\n",
    "     \"2015-big-sur\",\"2015-london\",\"2015-bay-of-mont-saint-michel\",\"2014-savannah-rock-n-roll\",\n",
    "         \"2014-auckland-marathon\",\"2014-amsterdam\"]\n",
    "data = pd.DataFrame()\n",
    "for i in xrange(len(cities)):\n",
    "    print cities[i]\n",
    "    f = open('/Users/Eddie/Dropbox/Insight/raw_html/'+cities[i]+'.html','rU')\n",
    "\n",
    "    activity = 0\n",
    "    user = 0\n",
    "    name = \"\"\n",
    "    age = 0\n",
    "    time = \"\"\n",
    "    pace = \"\"\n",
    "    temp = pd.DataFrame()\n",
    "\n",
    "    for line in f:\n",
    "        act_num = re.search(r'<tr data-activity_id=\\\"(\\d+)\\\">',line)\n",
    "        ath_id = re.search(r'<a class=\\\"avatar avatar-athlete\\\" href=\\\"\\/athletes\\/(\\d+)\\\">',line) \n",
    "        ath_name = re.search(r'<img alt=\\\"(\\w.+)\\\" src=',line)\n",
    "        ath_age = re.search(r'<td class=\\\"athlete-age\\\">(\\d+)<\\/td>',line)\n",
    "        finish_time = re.search(r'<td class=\\\"finish-time\\\">(\\d+):(\\d+):(\\d+)<\\/td>',line)\n",
    "        time_pace = re.search(r'<td class=\\\"finish-pace\\\">(\\d+):(\\d+)\\/mi<\\/td>',line)\n",
    "\n",
    "        if act_num:\n",
    "            activity = int(act_num.group(1))\n",
    "        if ath_id:\n",
    "            user = str(ath_id.group(1))\n",
    "        if ath_name:\n",
    "            name = ath_name.group(1)        \n",
    "        if ath_age:\n",
    "            age = int(ath_age.group(1))\n",
    "        if finish_time:\n",
    "            time = int(finish_time.group(1))*60*60 + int(finish_time.group(2))*60 + int(finish_time.group(3))\n",
    "        if time_pace:\n",
    "            pace = 60*int(time_pace.group(1)) + int(time_pace.group(2))\n",
    "            temp = temp.append([[name,age,user,activity,time,pace]])\n",
    "    f.close()\n",
    "    temp.columns=['name','age','user','activity','time','pace']\n",
    "    temp = temp.drop_duplicates()\n",
    "    data = data.append(temp)"
   ]
  },
  {
   "cell_type": "code",
   "execution_count": 510,
   "metadata": {
    "collapsed": false
   },
   "outputs": [],
   "source": [
    "goals = pd.DataFrame()\n",
    "for i in xrange(len(cities)):\n",
    "    g = open('/Users/Eddie/Dropbox/Insight/'+cities[i]+'-goals.html','rU')\n",
    "    temp = re.findall(r'\\[(\\d+),(\\w+)\\]',g.read())\n",
    "    g.close()\n",
    "    temp =  pd.DataFrame(temp).drop_duplicates()\n",
    "    temp.columns = ['user','goal']\n",
    "    goals = goals.append(temp)"
   ]
  },
  {
   "cell_type": "code",
   "execution_count": 511,
   "metadata": {
    "collapsed": false
   },
   "outputs": [],
   "source": [
    "combo = pd.merge(goals,data, how='inner',left_on = 'user', right_on = 'user')\n",
    "combo = combo[combo['time']<36000]\n",
    "combo.to_csv(\"/Users/Eddie/Dropbox/Insight/trial.csv\")"
   ]
  },
  {
   "cell_type": "code",
   "execution_count": 512,
   "metadata": {
    "collapsed": false
   },
   "outputs": [],
   "source": [
    "all_data=combo[combo['goal']!='null']\n",
    "all_data.to_csv(\"/Users/Eddie/Dropbox/Insight/trial.csv\")"
   ]
  },
  {
   "cell_type": "code",
   "execution_count": null,
   "metadata": {
    "collapsed": false
   },
   "outputs": [],
   "source": []
  },
  {
   "cell_type": "code",
   "execution_count": null,
   "metadata": {
    "collapsed": false,
    "scrolled": true
   },
   "outputs": [],
   "source": []
  },
  {
   "cell_type": "code",
   "execution_count": null,
   "metadata": {
    "collapsed": false
   },
   "outputs": [],
   "source": []
  },
  {
   "cell_type": "code",
   "execution_count": null,
   "metadata": {
    "collapsed": true
   },
   "outputs": [],
   "source": []
  },
  {
   "cell_type": "code",
   "execution_count": 400,
   "metadata": {
    "collapsed": false
   },
   "outputs": [],
   "source": [
    "con = mdb.connect('localhost', 'root', '', 'stravadb') \n",
    "cur = con.cursor()\n",
    "cur.execute(\"DROP TABLE IF EXISTS stravadb\")\n",
    "sqlEngine = sqlalchemy.create_engine('mysql+pymysql://root@localhost/stravadb')\n",
    "data.to_sql('stravadb', sqlEngine)\n",
    "data.to_csv('/Users/Eddie/Dropbox/Insight/data.csv')"
   ]
  }
 ],
 "metadata": {
  "kernelspec": {
   "display_name": "Python 2",
   "language": "python",
   "name": "python2"
  },
  "language_info": {
   "codemirror_mode": {
    "name": "ipython",
    "version": 2
   },
   "file_extension": ".py",
   "mimetype": "text/x-python",
   "name": "python",
   "nbconvert_exporter": "python",
   "pygments_lexer": "ipython2",
   "version": "2.7.9"
  }
 },
 "nbformat": 4,
 "nbformat_minor": 0
}
