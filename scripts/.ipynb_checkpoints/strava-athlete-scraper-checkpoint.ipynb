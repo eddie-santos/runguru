{
 "cells": [
  {
   "cell_type": "markdown",
   "metadata": {},
   "source": [
    "# Athlete log scraper\n",
    "Scrapes Strava for users determined from marathon page"
   ]
  },
  {
   "cell_type": "code",
   "execution_count": 4,
   "metadata": {
    "collapsed": true
   },
   "outputs": [],
   "source": [
    "from selenium import webdriver\n",
    "import numpy as np\n",
    "import os\n",
    "import pandas as pd\n",
    "import re\n",
    "import sys\n",
    "import time\n",
    "from credentials import EMAIL, PASSWORD"
   ]
  },
  {
   "cell_type": "code",
   "execution_count": 22,
   "metadata": {
    "collapsed": false
   },
   "outputs": [],
   "source": [
    "years = ['2015','2014','2013','2012','2011']\n",
    "months = ['06','07','08','09','10','11','12','01','02','03','04','05','06']\n",
    "athletes = pd.read_csv('/Users/Eddie/Dropbox/Insight/Project/text_files/goal_runners.csv')"
   ]
  },
  {
   "cell_type": "code",
   "execution_count": 23,
   "metadata": {
    "collapsed": false
   },
   "outputs": [],
   "source": [
    "# open browser and login\n",
    "browser = webdriver.Chrome()\n",
    "browser.get('https://app.strava.com/login')\n",
    "browser.find_element_by_name('email').send_keys(EMAIL)\n",
    "browser.find_element_by_name('password').clear()\n",
    "browser.find_element_by_name('password').send_keys(PASSWORD)\n",
    "browser.find_element_by_id('login-button').submit()\n",
    "time.sleep(2)"
   ]
  },
  {
   "cell_type": "code",
   "execution_count": 24,
   "metadata": {
    "collapsed": false
   },
   "outputs": [],
   "source": [
    "# iterate over athletes\n",
    "for athlete in athletes['user'].unique():\n",
    "\n",
    "    #check to see if already done\n",
    "    already_done = os.path.isfile('/Users/Eddie/Desktop/athlete_html/athlete'+str(athlete)+'.txt')\n",
    "    already_done2 = os.path.isfile('/Users/Eddie/Dropbox/Insight/Project/text_files/logs/athlete'+str(athlete)+'.csv')\n",
    "#     print already_done, already_done2\n",
    "    if not already_done and not already_done2:\n",
    "\n",
    "        #load athlete page\n",
    "        browser.get('https://www.strava.com/athletes/'+str(athlete)) \n",
    "        html_file = open(\"/Users/Eddie/Desktop/athlete_html/athlete\"+str(athlete)+\".txt\",'w') \n",
    "\n",
    "        #iterate over years\n",
    "        for i in xrange(len(years)-1): \n",
    "\n",
    "            # create dates structure\n",
    "            dates = []\n",
    "            for j in xrange(len(months)):\n",
    "                if j < (int(months[0])+1): dates.append(years[i+1] + months[j])\n",
    "                else: dates.append(years[i] + months[j])\n",
    "            time.sleep(2)\n",
    "\n",
    "            try:\n",
    "                if i > 0: #not the first year\n",
    "                    #click year menu\n",
    "                    browser.find_element_by_xpath('//*[@id=\"interval-date-range\"]/div/div').click()\n",
    "                    time.sleep(2)\n",
    "                    \n",
    "                    #click i-th year\n",
    "                    browser.find_element_by_xpath('//*[@id=\"interval-date-range\"]/div/ul/li['+str(i)+']/a').click()\n",
    "                    time.sleep(2)\n",
    "\n",
    "                #click monthly option\n",
    "                browser.find_element_by_xpath('//*[@id=\"interval-graph-controls\"]/ul/li[2]/ul/li[2]/a').click()\n",
    "                time.sleep(2)\n",
    "\n",
    "                #iterate over months\n",
    "                for date in dates: \n",
    "                    time.sleep(1)\n",
    "                    try:\n",
    "                        #click through months\n",
    "                        browser.find_element_by_xpath('//*[@id=\\\"interval-'+date+'\\\"]/div/a/div').click()  \n",
    "                        time.sleep(1.5)\n",
    "                        \n",
    "                        #copy html code\n",
    "                        html_code = browser.page_source.encode('utf-8')\n",
    "                        html_file.write(html_code)\n",
    "\n",
    "                    except:\n",
    "                        time.sleep(1)\n",
    "                        pass\n",
    "            except:\n",
    "                pass\n",
    "        html_file.close        "
   ]
  },
  {
   "cell_type": "code",
   "execution_count": 25,
   "metadata": {
    "collapsed": true
   },
   "outputs": [],
   "source": [
    "browser.quit()"
   ]
  },
  {
   "cell_type": "code",
   "execution_count": null,
   "metadata": {
    "collapsed": false
   },
   "outputs": [],
   "source": []
  },
  {
   "cell_type": "code",
   "execution_count": null,
   "metadata": {
    "collapsed": false
   },
   "outputs": [],
   "source": []
  },
  {
   "cell_type": "code",
   "execution_count": null,
   "metadata": {
    "collapsed": false
   },
   "outputs": [],
   "source": []
  },
  {
   "cell_type": "code",
   "execution_count": null,
   "metadata": {
    "collapsed": false
   },
   "outputs": [],
   "source": []
  },
  {
   "cell_type": "code",
   "execution_count": null,
   "metadata": {
    "collapsed": false
   },
   "outputs": [],
   "source": []
  },
  {
   "cell_type": "code",
   "execution_count": null,
   "metadata": {
    "collapsed": true
   },
   "outputs": [],
   "source": []
  }
 ],
 "metadata": {
  "kernelspec": {
   "display_name": "Python 2",
   "language": "python",
   "name": "python2"
  },
  "language_info": {
   "codemirror_mode": {
    "name": "ipython",
    "version": 2
   },
   "file_extension": ".py",
   "mimetype": "text/x-python",
   "name": "python",
   "nbconvert_exporter": "python",
   "pygments_lexer": "ipython2",
   "version": "2.7.9"
  }
 },
 "nbformat": 4,
 "nbformat_minor": 0
}
